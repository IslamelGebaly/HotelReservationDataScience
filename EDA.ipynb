{
  "cells": [
    {
      "cell_type": "markdown",
      "metadata": {
        "id": "KuKdyF1W0uNH"
      },
      "source": [
        "# 1. EDA"
      ]
    },
    {
      "cell_type": "markdown",
      "metadata": {
        "id": "dWakrxR_06TG"
      },
      "source": [
        "### 1.1. Loading Data"
      ]
    },
    {
      "cell_type": "code",
      "execution_count": 7,
      "metadata": {
        "id": "Kgv4aSlxpxq5"
      },
      "outputs": [],
      "source": [
        "# Importing Libraries\n",
        "import pandas as pd\n",
        "import numpy as np\n",
        "import seaborn as sns\n",
        "import plotly.express as px"
      ]
    },
    {
      "cell_type": "code",
      "execution_count": 8,
      "metadata": {
        "colab": {
          "base_uri": "https://localhost:8080/",
          "height": 258
        },
        "id": "4YEh5nFJq7Hv",
        "outputId": "6ba53538-cac6-42eb-9ba6-d6eb2f29172f"
      },
      "outputs": [
        {
          "data": {
            "text/html": [
              "<div>\n",
              "<style scoped>\n",
              "    .dataframe tbody tr th:only-of-type {\n",
              "        vertical-align: middle;\n",
              "    }\n",
              "\n",
              "    .dataframe tbody tr th {\n",
              "        vertical-align: top;\n",
              "    }\n",
              "\n",
              "    .dataframe thead th {\n",
              "        text-align: right;\n",
              "    }\n",
              "</style>\n",
              "<table border=\"1\" class=\"dataframe\">\n",
              "  <thead>\n",
              "    <tr style=\"text-align: right;\">\n",
              "      <th></th>\n",
              "      <th>no_of_adults</th>\n",
              "      <th>no_of_children</th>\n",
              "      <th>no_of_weekend_nights</th>\n",
              "      <th>no_of_week_nights</th>\n",
              "      <th>type_of_meal_plan</th>\n",
              "      <th>required_car_parking_space</th>\n",
              "      <th>room_type_reserved</th>\n",
              "      <th>lead_time</th>\n",
              "      <th>arrival_year</th>\n",
              "      <th>arrival_month</th>\n",
              "      <th>arrival_date</th>\n",
              "      <th>market_segment_type</th>\n",
              "      <th>repeated_guest</th>\n",
              "      <th>no_of_previous_cancellations</th>\n",
              "      <th>no_of_previous_bookings_not_canceled</th>\n",
              "      <th>avg_price_per_room</th>\n",
              "      <th>no_of_special_requests</th>\n",
              "      <th>booking_status</th>\n",
              "    </tr>\n",
              "    <tr>\n",
              "      <th>Booking_ID</th>\n",
              "      <th></th>\n",
              "      <th></th>\n",
              "      <th></th>\n",
              "      <th></th>\n",
              "      <th></th>\n",
              "      <th></th>\n",
              "      <th></th>\n",
              "      <th></th>\n",
              "      <th></th>\n",
              "      <th></th>\n",
              "      <th></th>\n",
              "      <th></th>\n",
              "      <th></th>\n",
              "      <th></th>\n",
              "      <th></th>\n",
              "      <th></th>\n",
              "      <th></th>\n",
              "      <th></th>\n",
              "    </tr>\n",
              "  </thead>\n",
              "  <tbody>\n",
              "    <tr>\n",
              "      <th>INN00001</th>\n",
              "      <td>2</td>\n",
              "      <td>0</td>\n",
              "      <td>1</td>\n",
              "      <td>2</td>\n",
              "      <td>Meal Plan 1</td>\n",
              "      <td>0</td>\n",
              "      <td>Room_Type 1</td>\n",
              "      <td>224</td>\n",
              "      <td>2017</td>\n",
              "      <td>10</td>\n",
              "      <td>2</td>\n",
              "      <td>Offline</td>\n",
              "      <td>0</td>\n",
              "      <td>0</td>\n",
              "      <td>0</td>\n",
              "      <td>65.00</td>\n",
              "      <td>0</td>\n",
              "      <td>Not_Canceled</td>\n",
              "    </tr>\n",
              "    <tr>\n",
              "      <th>INN00002</th>\n",
              "      <td>2</td>\n",
              "      <td>0</td>\n",
              "      <td>2</td>\n",
              "      <td>3</td>\n",
              "      <td>Not Selected</td>\n",
              "      <td>0</td>\n",
              "      <td>Room_Type 1</td>\n",
              "      <td>5</td>\n",
              "      <td>2018</td>\n",
              "      <td>11</td>\n",
              "      <td>6</td>\n",
              "      <td>Online</td>\n",
              "      <td>0</td>\n",
              "      <td>0</td>\n",
              "      <td>0</td>\n",
              "      <td>106.68</td>\n",
              "      <td>1</td>\n",
              "      <td>Not_Canceled</td>\n",
              "    </tr>\n",
              "    <tr>\n",
              "      <th>INN00003</th>\n",
              "      <td>1</td>\n",
              "      <td>0</td>\n",
              "      <td>2</td>\n",
              "      <td>1</td>\n",
              "      <td>Meal Plan 1</td>\n",
              "      <td>0</td>\n",
              "      <td>Room_Type 1</td>\n",
              "      <td>1</td>\n",
              "      <td>2018</td>\n",
              "      <td>2</td>\n",
              "      <td>28</td>\n",
              "      <td>Online</td>\n",
              "      <td>0</td>\n",
              "      <td>0</td>\n",
              "      <td>0</td>\n",
              "      <td>60.00</td>\n",
              "      <td>0</td>\n",
              "      <td>Canceled</td>\n",
              "    </tr>\n",
              "    <tr>\n",
              "      <th>INN00004</th>\n",
              "      <td>2</td>\n",
              "      <td>0</td>\n",
              "      <td>0</td>\n",
              "      <td>2</td>\n",
              "      <td>Meal Plan 1</td>\n",
              "      <td>0</td>\n",
              "      <td>Room_Type 1</td>\n",
              "      <td>211</td>\n",
              "      <td>2018</td>\n",
              "      <td>5</td>\n",
              "      <td>20</td>\n",
              "      <td>Online</td>\n",
              "      <td>0</td>\n",
              "      <td>0</td>\n",
              "      <td>0</td>\n",
              "      <td>100.00</td>\n",
              "      <td>0</td>\n",
              "      <td>Canceled</td>\n",
              "    </tr>\n",
              "    <tr>\n",
              "      <th>INN00005</th>\n",
              "      <td>2</td>\n",
              "      <td>0</td>\n",
              "      <td>1</td>\n",
              "      <td>1</td>\n",
              "      <td>Not Selected</td>\n",
              "      <td>0</td>\n",
              "      <td>Room_Type 1</td>\n",
              "      <td>48</td>\n",
              "      <td>2018</td>\n",
              "      <td>4</td>\n",
              "      <td>11</td>\n",
              "      <td>Online</td>\n",
              "      <td>0</td>\n",
              "      <td>0</td>\n",
              "      <td>0</td>\n",
              "      <td>94.50</td>\n",
              "      <td>0</td>\n",
              "      <td>Canceled</td>\n",
              "    </tr>\n",
              "  </tbody>\n",
              "</table>\n",
              "</div>"
            ],
            "text/plain": [
              "            no_of_adults  no_of_children  no_of_weekend_nights  \\\n",
              "Booking_ID                                                       \n",
              "INN00001               2               0                     1   \n",
              "INN00002               2               0                     2   \n",
              "INN00003               1               0                     2   \n",
              "INN00004               2               0                     0   \n",
              "INN00005               2               0                     1   \n",
              "\n",
              "            no_of_week_nights type_of_meal_plan  required_car_parking_space  \\\n",
              "Booking_ID                                                                    \n",
              "INN00001                    2       Meal Plan 1                           0   \n",
              "INN00002                    3      Not Selected                           0   \n",
              "INN00003                    1       Meal Plan 1                           0   \n",
              "INN00004                    2       Meal Plan 1                           0   \n",
              "INN00005                    1      Not Selected                           0   \n",
              "\n",
              "           room_type_reserved  lead_time  arrival_year  arrival_month  \\\n",
              "Booking_ID                                                              \n",
              "INN00001          Room_Type 1        224          2017             10   \n",
              "INN00002          Room_Type 1          5          2018             11   \n",
              "INN00003          Room_Type 1          1          2018              2   \n",
              "INN00004          Room_Type 1        211          2018              5   \n",
              "INN00005          Room_Type 1         48          2018              4   \n",
              "\n",
              "            arrival_date market_segment_type  repeated_guest  \\\n",
              "Booking_ID                                                     \n",
              "INN00001               2             Offline               0   \n",
              "INN00002               6              Online               0   \n",
              "INN00003              28              Online               0   \n",
              "INN00004              20              Online               0   \n",
              "INN00005              11              Online               0   \n",
              "\n",
              "            no_of_previous_cancellations  \\\n",
              "Booking_ID                                 \n",
              "INN00001                               0   \n",
              "INN00002                               0   \n",
              "INN00003                               0   \n",
              "INN00004                               0   \n",
              "INN00005                               0   \n",
              "\n",
              "            no_of_previous_bookings_not_canceled  avg_price_per_room  \\\n",
              "Booking_ID                                                             \n",
              "INN00001                                       0               65.00   \n",
              "INN00002                                       0              106.68   \n",
              "INN00003                                       0               60.00   \n",
              "INN00004                                       0              100.00   \n",
              "INN00005                                       0               94.50   \n",
              "\n",
              "            no_of_special_requests booking_status  \n",
              "Booking_ID                                         \n",
              "INN00001                         0   Not_Canceled  \n",
              "INN00002                         1   Not_Canceled  \n",
              "INN00003                         0       Canceled  \n",
              "INN00004                         0       Canceled  \n",
              "INN00005                         0       Canceled  "
            ]
          },
          "execution_count": 8,
          "metadata": {},
          "output_type": "execute_result"
        }
      ],
      "source": [
        "# Loading Dataset\n",
        "df = pd.read_csv(\"Hotel Reservations.csv\", index_col = \"Booking_ID\")\n",
        "df.head()"
      ]
    },
    {
      "cell_type": "markdown",
      "metadata": {
        "id": "CkKcUlnM1ICL"
      },
      "source": [
        "### 1.2. Displaying Info"
      ]
    },
    {
      "cell_type": "code",
      "execution_count": 9,
      "metadata": {
        "colab": {
          "base_uri": "https://localhost:8080/"
        },
        "id": "Om5VriZNrm0h",
        "outputId": "0e2eae39-e8c6-4c78-8b55-d909a2accee9"
      },
      "outputs": [
        {
          "name": "stdout",
          "output_type": "stream",
          "text": [
            "<class 'pandas.core.frame.DataFrame'>\n",
            "Index: 36275 entries, INN00001 to INN36275\n",
            "Data columns (total 18 columns):\n",
            " #   Column                                Non-Null Count  Dtype  \n",
            "---  ------                                --------------  -----  \n",
            " 0   no_of_adults                          36275 non-null  int64  \n",
            " 1   no_of_children                        36275 non-null  int64  \n",
            " 2   no_of_weekend_nights                  36275 non-null  int64  \n",
            " 3   no_of_week_nights                     36275 non-null  int64  \n",
            " 4   type_of_meal_plan                     36275 non-null  object \n",
            " 5   required_car_parking_space            36275 non-null  int64  \n",
            " 6   room_type_reserved                    36275 non-null  object \n",
            " 7   lead_time                             36275 non-null  int64  \n",
            " 8   arrival_year                          36275 non-null  int64  \n",
            " 9   arrival_month                         36275 non-null  int64  \n",
            " 10  arrival_date                          36275 non-null  int64  \n",
            " 11  market_segment_type                   36275 non-null  object \n",
            " 12  repeated_guest                        36275 non-null  int64  \n",
            " 13  no_of_previous_cancellations          36275 non-null  int64  \n",
            " 14  no_of_previous_bookings_not_canceled  36275 non-null  int64  \n",
            " 15  avg_price_per_room                    36275 non-null  float64\n",
            " 16  no_of_special_requests                36275 non-null  int64  \n",
            " 17  booking_status                        36275 non-null  object \n",
            "dtypes: float64(1), int64(13), object(4)\n",
            "memory usage: 5.3+ MB\n"
          ]
        }
      ],
      "source": [
        "# Display Info\n",
        "df.info()"
      ]
    },
    {
      "cell_type": "markdown",
      "metadata": {
        "id": "du7XZXoe1PSu"
      },
      "source": [
        "### 1.3. Observing the Number of Uniques in Each Column"
      ]
    },
    {
      "cell_type": "code",
      "execution_count": 10,
      "metadata": {
        "colab": {
          "base_uri": "https://localhost:8080/"
        },
        "id": "CSLWCyYVrm3Y",
        "outputId": "35728126-5bd5-4cd1-c166-1d4a4cf534c2"
      },
      "outputs": [
        {
          "name": "stdout",
          "output_type": "stream",
          "text": [
            "no_of_adults => 5\n",
            "no_of_children => 6\n",
            "no_of_weekend_nights => 8\n",
            "no_of_week_nights => 18\n",
            "type_of_meal_plan => 4\n",
            "required_car_parking_space => 2\n",
            "room_type_reserved => 7\n",
            "lead_time => 352\n",
            "arrival_year => 2\n",
            "arrival_month => 12\n",
            "arrival_date => 31\n",
            "market_segment_type => 5\n",
            "repeated_guest => 2\n",
            "no_of_previous_cancellations => 9\n",
            "no_of_previous_bookings_not_canceled => 59\n",
            "avg_price_per_room => 3930\n",
            "no_of_special_requests => 6\n",
            "booking_status => 2\n"
          ]
        }
      ],
      "source": [
        "# Looping through each column and displaying the number of uniques\n",
        "for col in df.columns:\n",
        "  print(f\"{col} => {df[col].nunique()}\")"
      ]
    },
    {
      "cell_type": "markdown",
      "metadata": {
        "id": "0VC4tQ8Y1g-I"
      },
      "source": [
        "### 1.4. Observing the Number of Null Values in Each Column"
      ]
    },
    {
      "cell_type": "code",
      "execution_count": 11,
      "metadata": {
        "colab": {
          "base_uri": "https://localhost:8080/"
        },
        "id": "Hrk1PXpPsS98",
        "outputId": "a1160414-235b-4bb6-d2bd-b566f35d6ad8"
      },
      "outputs": [
        {
          "name": "stdout",
          "output_type": "stream",
          "text": [
            "no_of_adults => 0\n",
            "no_of_children => 0\n",
            "no_of_weekend_nights => 0\n",
            "no_of_week_nights => 0\n",
            "type_of_meal_plan => 0\n",
            "required_car_parking_space => 0\n",
            "room_type_reserved => 0\n",
            "lead_time => 0\n",
            "arrival_year => 0\n",
            "arrival_month => 0\n",
            "arrival_date => 0\n",
            "market_segment_type => 0\n",
            "repeated_guest => 0\n",
            "no_of_previous_cancellations => 0\n",
            "no_of_previous_bookings_not_canceled => 0\n",
            "avg_price_per_room => 0\n",
            "no_of_special_requests => 0\n",
            "booking_status => 0\n"
          ]
        }
      ],
      "source": [
        "for col in df.columns:\n",
        "  print(f\"{col} => {df[col].isna().sum()}\")"
      ]
    },
    {
      "cell_type": "code",
      "execution_count": 12,
      "metadata": {
        "id": "8WXKfMrfseI9"
      },
      "outputs": [],
      "source": [
        "label = \"booking_status\""
      ]
    },
    {
      "cell_type": "markdown",
      "metadata": {
        "id": "bep-9ydP3Zol"
      },
      "source": [
        "### 1.5. Summary for Each Column"
      ]
    },
    {
      "cell_type": "code",
      "execution_count": 13,
      "metadata": {
        "colab": {
          "base_uri": "https://localhost:8080/",
          "height": 320
        },
        "id": "0PFop217twuL",
        "outputId": "2bba7109-eda7-430c-ddb2-c243fc304ffe"
      },
      "outputs": [
        {
          "data": {
            "text/html": [
              "<div>\n",
              "<style scoped>\n",
              "    .dataframe tbody tr th:only-of-type {\n",
              "        vertical-align: middle;\n",
              "    }\n",
              "\n",
              "    .dataframe tbody tr th {\n",
              "        vertical-align: top;\n",
              "    }\n",
              "\n",
              "    .dataframe thead th {\n",
              "        text-align: right;\n",
              "    }\n",
              "</style>\n",
              "<table border=\"1\" class=\"dataframe\">\n",
              "  <thead>\n",
              "    <tr style=\"text-align: right;\">\n",
              "      <th></th>\n",
              "      <th>no_of_adults</th>\n",
              "      <th>no_of_children</th>\n",
              "      <th>no_of_weekend_nights</th>\n",
              "      <th>no_of_week_nights</th>\n",
              "      <th>required_car_parking_space</th>\n",
              "      <th>lead_time</th>\n",
              "      <th>arrival_year</th>\n",
              "      <th>arrival_month</th>\n",
              "      <th>arrival_date</th>\n",
              "      <th>repeated_guest</th>\n",
              "      <th>no_of_previous_cancellations</th>\n",
              "      <th>no_of_previous_bookings_not_canceled</th>\n",
              "      <th>avg_price_per_room</th>\n",
              "      <th>no_of_special_requests</th>\n",
              "    </tr>\n",
              "  </thead>\n",
              "  <tbody>\n",
              "    <tr>\n",
              "      <th>count</th>\n",
              "      <td>36275.000000</td>\n",
              "      <td>36275.000000</td>\n",
              "      <td>36275.000000</td>\n",
              "      <td>36275.000000</td>\n",
              "      <td>36275.000000</td>\n",
              "      <td>36275.000000</td>\n",
              "      <td>36275.000000</td>\n",
              "      <td>36275.000000</td>\n",
              "      <td>36275.000000</td>\n",
              "      <td>36275.000000</td>\n",
              "      <td>36275.000000</td>\n",
              "      <td>36275.000000</td>\n",
              "      <td>36275.000000</td>\n",
              "      <td>36275.000000</td>\n",
              "    </tr>\n",
              "    <tr>\n",
              "      <th>mean</th>\n",
              "      <td>1.844962</td>\n",
              "      <td>0.105279</td>\n",
              "      <td>0.810724</td>\n",
              "      <td>2.204300</td>\n",
              "      <td>0.030986</td>\n",
              "      <td>85.232557</td>\n",
              "      <td>2017.820427</td>\n",
              "      <td>7.423653</td>\n",
              "      <td>15.596995</td>\n",
              "      <td>0.025637</td>\n",
              "      <td>0.023349</td>\n",
              "      <td>0.153411</td>\n",
              "      <td>103.423539</td>\n",
              "      <td>0.619655</td>\n",
              "    </tr>\n",
              "    <tr>\n",
              "      <th>std</th>\n",
              "      <td>0.518715</td>\n",
              "      <td>0.402648</td>\n",
              "      <td>0.870644</td>\n",
              "      <td>1.410905</td>\n",
              "      <td>0.173281</td>\n",
              "      <td>85.930817</td>\n",
              "      <td>0.383836</td>\n",
              "      <td>3.069894</td>\n",
              "      <td>8.740447</td>\n",
              "      <td>0.158053</td>\n",
              "      <td>0.368331</td>\n",
              "      <td>1.754171</td>\n",
              "      <td>35.089424</td>\n",
              "      <td>0.786236</td>\n",
              "    </tr>\n",
              "    <tr>\n",
              "      <th>min</th>\n",
              "      <td>0.000000</td>\n",
              "      <td>0.000000</td>\n",
              "      <td>0.000000</td>\n",
              "      <td>0.000000</td>\n",
              "      <td>0.000000</td>\n",
              "      <td>0.000000</td>\n",
              "      <td>2017.000000</td>\n",
              "      <td>1.000000</td>\n",
              "      <td>1.000000</td>\n",
              "      <td>0.000000</td>\n",
              "      <td>0.000000</td>\n",
              "      <td>0.000000</td>\n",
              "      <td>0.000000</td>\n",
              "      <td>0.000000</td>\n",
              "    </tr>\n",
              "    <tr>\n",
              "      <th>25%</th>\n",
              "      <td>2.000000</td>\n",
              "      <td>0.000000</td>\n",
              "      <td>0.000000</td>\n",
              "      <td>1.000000</td>\n",
              "      <td>0.000000</td>\n",
              "      <td>17.000000</td>\n",
              "      <td>2018.000000</td>\n",
              "      <td>5.000000</td>\n",
              "      <td>8.000000</td>\n",
              "      <td>0.000000</td>\n",
              "      <td>0.000000</td>\n",
              "      <td>0.000000</td>\n",
              "      <td>80.300000</td>\n",
              "      <td>0.000000</td>\n",
              "    </tr>\n",
              "    <tr>\n",
              "      <th>50%</th>\n",
              "      <td>2.000000</td>\n",
              "      <td>0.000000</td>\n",
              "      <td>1.000000</td>\n",
              "      <td>2.000000</td>\n",
              "      <td>0.000000</td>\n",
              "      <td>57.000000</td>\n",
              "      <td>2018.000000</td>\n",
              "      <td>8.000000</td>\n",
              "      <td>16.000000</td>\n",
              "      <td>0.000000</td>\n",
              "      <td>0.000000</td>\n",
              "      <td>0.000000</td>\n",
              "      <td>99.450000</td>\n",
              "      <td>0.000000</td>\n",
              "    </tr>\n",
              "    <tr>\n",
              "      <th>75%</th>\n",
              "      <td>2.000000</td>\n",
              "      <td>0.000000</td>\n",
              "      <td>2.000000</td>\n",
              "      <td>3.000000</td>\n",
              "      <td>0.000000</td>\n",
              "      <td>126.000000</td>\n",
              "      <td>2018.000000</td>\n",
              "      <td>10.000000</td>\n",
              "      <td>23.000000</td>\n",
              "      <td>0.000000</td>\n",
              "      <td>0.000000</td>\n",
              "      <td>0.000000</td>\n",
              "      <td>120.000000</td>\n",
              "      <td>1.000000</td>\n",
              "    </tr>\n",
              "    <tr>\n",
              "      <th>max</th>\n",
              "      <td>4.000000</td>\n",
              "      <td>10.000000</td>\n",
              "      <td>7.000000</td>\n",
              "      <td>17.000000</td>\n",
              "      <td>1.000000</td>\n",
              "      <td>443.000000</td>\n",
              "      <td>2018.000000</td>\n",
              "      <td>12.000000</td>\n",
              "      <td>31.000000</td>\n",
              "      <td>1.000000</td>\n",
              "      <td>13.000000</td>\n",
              "      <td>58.000000</td>\n",
              "      <td>540.000000</td>\n",
              "      <td>5.000000</td>\n",
              "    </tr>\n",
              "  </tbody>\n",
              "</table>\n",
              "</div>"
            ],
            "text/plain": [
              "       no_of_adults  no_of_children  no_of_weekend_nights  no_of_week_nights  \\\n",
              "count  36275.000000    36275.000000          36275.000000       36275.000000   \n",
              "mean       1.844962        0.105279              0.810724           2.204300   \n",
              "std        0.518715        0.402648              0.870644           1.410905   \n",
              "min        0.000000        0.000000              0.000000           0.000000   \n",
              "25%        2.000000        0.000000              0.000000           1.000000   \n",
              "50%        2.000000        0.000000              1.000000           2.000000   \n",
              "75%        2.000000        0.000000              2.000000           3.000000   \n",
              "max        4.000000       10.000000              7.000000          17.000000   \n",
              "\n",
              "       required_car_parking_space     lead_time  arrival_year  arrival_month  \\\n",
              "count                36275.000000  36275.000000  36275.000000   36275.000000   \n",
              "mean                     0.030986     85.232557   2017.820427       7.423653   \n",
              "std                      0.173281     85.930817      0.383836       3.069894   \n",
              "min                      0.000000      0.000000   2017.000000       1.000000   \n",
              "25%                      0.000000     17.000000   2018.000000       5.000000   \n",
              "50%                      0.000000     57.000000   2018.000000       8.000000   \n",
              "75%                      0.000000    126.000000   2018.000000      10.000000   \n",
              "max                      1.000000    443.000000   2018.000000      12.000000   \n",
              "\n",
              "       arrival_date  repeated_guest  no_of_previous_cancellations  \\\n",
              "count  36275.000000    36275.000000                  36275.000000   \n",
              "mean      15.596995        0.025637                      0.023349   \n",
              "std        8.740447        0.158053                      0.368331   \n",
              "min        1.000000        0.000000                      0.000000   \n",
              "25%        8.000000        0.000000                      0.000000   \n",
              "50%       16.000000        0.000000                      0.000000   \n",
              "75%       23.000000        0.000000                      0.000000   \n",
              "max       31.000000        1.000000                     13.000000   \n",
              "\n",
              "       no_of_previous_bookings_not_canceled  avg_price_per_room  \\\n",
              "count                          36275.000000        36275.000000   \n",
              "mean                               0.153411          103.423539   \n",
              "std                                1.754171           35.089424   \n",
              "min                                0.000000            0.000000   \n",
              "25%                                0.000000           80.300000   \n",
              "50%                                0.000000           99.450000   \n",
              "75%                                0.000000          120.000000   \n",
              "max                               58.000000          540.000000   \n",
              "\n",
              "       no_of_special_requests  \n",
              "count            36275.000000  \n",
              "mean                 0.619655  \n",
              "std                  0.786236  \n",
              "min                  0.000000  \n",
              "25%                  0.000000  \n",
              "50%                  0.000000  \n",
              "75%                  1.000000  \n",
              "max                  5.000000  "
            ]
          },
          "execution_count": 13,
          "metadata": {},
          "output_type": "execute_result"
        }
      ],
      "source": [
        "# Summary for Each Column\n",
        "df.describe()"
      ]
    },
    {
      "cell_type": "markdown",
      "metadata": {
        "id": "PAo5YtYs4MI-"
      },
      "source": [
        "# 2. Data Exploration"
      ]
    },
    {
      "cell_type": "code",
      "execution_count": 14,
      "metadata": {
        "colab": {
          "base_uri": "https://localhost:8080/"
        },
        "id": "fRRErxoxEtJS",
        "outputId": "b6962522-bb94-453d-cd35-370e8a6381c1"
      },
      "outputs": [
        {
          "data": {
            "text/plain": [
              "array([2, 1, 3, 0, 4], dtype=int64)"
            ]
          },
          "execution_count": 14,
          "metadata": {},
          "output_type": "execute_result"
        }
      ],
      "source": [
        "df[\"no_of_adults\"].unique()"
      ]
    },
    {
      "cell_type": "code",
      "execution_count": 15,
      "metadata": {
        "colab": {
          "base_uri": "https://localhost:8080/"
        },
        "id": "kPmWYW3WIL6j",
        "outputId": "03b8b5ec-9938-4909-fd19-168226ad89cb"
      },
      "outputs": [
        {
          "data": {
            "text/plain": [
              "array([ 0,  2,  1,  3, 10,  9], dtype=int64)"
            ]
          },
          "execution_count": 15,
          "metadata": {},
          "output_type": "execute_result"
        }
      ],
      "source": [
        "df[\"no_of_children\"].unique()"
      ]
    },
    {
      "cell_type": "code",
      "execution_count": 16,
      "metadata": {},
      "outputs": [
        {
          "data": {
            "text/plain": [
              "array(['Room_Type 1', 'Room_Type 4', 'Room_Type 2', 'Room_Type 6',\n",
              "       'Room_Type 5', 'Room_Type 7', 'Room_Type 3'], dtype=object)"
            ]
          },
          "execution_count": 16,
          "metadata": {},
          "output_type": "execute_result"
        }
      ],
      "source": [
        "df[\"room_type_reserved\"].unique()"
      ]
    },
    {
      "cell_type": "code",
      "execution_count": 17,
      "metadata": {
        "colab": {
          "base_uri": "https://localhost:8080/"
        },
        "id": "Iy_CkIfwIQw1",
        "outputId": "81997b36-2894-4299-a346-d96924652997"
      },
      "outputs": [
        {
          "data": {
            "text/plain": [
              "array([1, 2, 0, 4, 3, 6, 5, 7], dtype=int64)"
            ]
          },
          "execution_count": 17,
          "metadata": {},
          "output_type": "execute_result"
        }
      ],
      "source": [
        "df[\"no_of_weekend_nights\"].unique()"
      ]
    },
    {
      "cell_type": "code",
      "execution_count": 18,
      "metadata": {
        "colab": {
          "base_uri": "https://localhost:8080/"
        },
        "id": "9_yw9dZQPdMR",
        "outputId": "ea8524ad-14a3-433d-d185-a24dcae5bbea"
      },
      "outputs": [
        {
          "data": {
            "text/plain": [
              "array(['Meal Plan 1', 'Not Selected', 'Meal Plan 2', 'Meal Plan 3'],\n",
              "      dtype=object)"
            ]
          },
          "execution_count": 18,
          "metadata": {},
          "output_type": "execute_result"
        }
      ],
      "source": [
        "df[\"type_of_meal_plan\"].unique()"
      ]
    },
    {
      "cell_type": "code",
      "execution_count": 19,
      "metadata": {
        "colab": {
          "base_uri": "https://localhost:8080/"
        },
        "id": "JONMChZfIzax",
        "outputId": "fd91f4ca-b59c-4960-d831-205160c74f6d"
      },
      "outputs": [
        {
          "data": {
            "text/plain": [
              "array([ 2,  3,  1,  4,  5,  0, 10,  6, 11,  7, 15,  9, 13,  8, 14, 12, 17,\n",
              "       16], dtype=int64)"
            ]
          },
          "execution_count": 19,
          "metadata": {},
          "output_type": "execute_result"
        }
      ],
      "source": [
        "df[\"no_of_week_nights\"].unique()"
      ]
    },
    {
      "cell_type": "code",
      "execution_count": 20,
      "metadata": {
        "colab": {
          "base_uri": "https://localhost:8080/"
        },
        "id": "H8iHU4_CI9fp",
        "outputId": "74ad869b-8a27-4df0-e860-e5be27f969e7"
      },
      "outputs": [
        {
          "data": {
            "text/plain": [
              "array([0, 1], dtype=int64)"
            ]
          },
          "execution_count": 20,
          "metadata": {},
          "output_type": "execute_result"
        }
      ],
      "source": [
        "df[\"required_car_parking_space\"].unique()"
      ]
    },
    {
      "cell_type": "code",
      "execution_count": 21,
      "metadata": {
        "colab": {
          "base_uri": "https://localhost:8080/"
        },
        "id": "xEGSO6SnJAY2",
        "outputId": "30674e34-0207-455e-d05c-d7d9ad5a664b"
      },
      "outputs": [
        {
          "data": {
            "text/plain": [
              "array([224,   5,   1, 211,  48, 346,  34,  83, 121,  44,   0,  35,  30,\n",
              "        95,  47, 256,  99,  12, 122,   2,  37, 130,  60,  56,   3, 107,\n",
              "        72,  23, 289, 247, 186,  64,  96,  41,  55, 146,  32,  57,   7,\n",
              "       124, 169,   6,  51,  13, 100, 139, 117,  39,  86,  19, 192, 179,\n",
              "        26,  74, 143, 177,  18, 267, 155,  46, 128,  20,  40, 196, 188,\n",
              "        17, 110,  68,  73,  92, 171, 134, 320, 118, 189,  16,  24,   8,\n",
              "        10, 182, 116, 123, 105, 443, 317, 286, 148,  14,  85,  25,  28,\n",
              "        80,  11, 162,  82,  27, 245, 266, 112,  88,  69, 273,   4,  97,\n",
              "        31,  62, 197, 280, 185, 160, 104,  22, 292, 109, 126, 303,  81,\n",
              "        54,  15, 161, 147,  87, 127, 418, 156,  58, 433, 111, 195, 119,\n",
              "        59,  78, 335, 103,  70,  76, 144,  49,  77,  36,  79,  21,  33,\n",
              "       164, 152,  43, 102,  71, 209,  93,  53, 302, 239,  45, 167, 113,\n",
              "        84,   9, 166, 174,  61, 151,  52,  67, 282,  38, 175,  89, 133,\n",
              "        65,  66,  50, 159, 386, 115, 237, 125,  91,  29, 221, 213, 198,\n",
              "        75, 180, 236, 120, 230,  63, 136, 309, 157, 268, 217,  94, 305,\n",
              "        98,  42, 154, 330, 137, 184, 232, 304, 114, 257, 265, 191, 101,\n",
              "       259, 149, 170, 271, 207, 108, 210, 222, 296, 194, 145, 153, 275,\n",
              "       158, 301, 349, 200, 315, 181, 263, 176, 141, 270, 150, 359, 244,\n",
              "       219, 142, 138, 276, 178, 163, 377, 290, 216, 226, 258, 254, 193,\n",
              "       131, 208, 215, 190, 381, 231, 248, 106, 308, 140, 173, 168, 172,\n",
              "        90, 249, 205, 129, 212, 135, 220, 277, 253, 132, 183, 255, 223,\n",
              "       336, 288, 229, 319, 199, 203, 228, 246, 235, 294, 281, 202, 361,\n",
              "       287, 291, 313, 206, 269, 279, 261, 214, 274, 250, 187, 240, 241,\n",
              "       323, 322, 227, 225, 233, 338, 283, 327, 204, 352, 165, 251, 299,\n",
              "       314, 285, 238, 328, 278, 332, 243, 201, 307, 272, 252, 242, 284,\n",
              "       297, 324, 260, 262, 326, 295, 218, 234, 353, 300, 355, 306, 298,\n",
              "       331, 341, 318, 333, 372, 311, 310, 345, 264, 325, 293, 348, 350,\n",
              "       351], dtype=int64)"
            ]
          },
          "execution_count": 21,
          "metadata": {},
          "output_type": "execute_result"
        }
      ],
      "source": [
        "df[\"lead_time\"].unique()"
      ]
    },
    {
      "cell_type": "code",
      "execution_count": 22,
      "metadata": {
        "colab": {
          "base_uri": "https://localhost:8080/"
        },
        "id": "KjOsFyimJO7o",
        "outputId": "99ec5b22-93de-44a7-9e9c-e82a204447c2"
      },
      "outputs": [
        {
          "data": {
            "text/plain": [
              "array(['Offline', 'Online', 'Corporate', 'Aviation', 'Complementary'],\n",
              "      dtype=object)"
            ]
          },
          "execution_count": 22,
          "metadata": {},
          "output_type": "execute_result"
        }
      ],
      "source": [
        "df[\"market_segment_type\"].unique()"
      ]
    },
    {
      "cell_type": "code",
      "execution_count": 23,
      "metadata": {
        "colab": {
          "base_uri": "https://localhost:8080/"
        },
        "id": "kKqv7WYnJeUz",
        "outputId": "4ea7011d-f534-46cb-84dd-ab13f2f8c8ec"
      },
      "outputs": [
        {
          "data": {
            "text/plain": [
              "array([0, 1], dtype=int64)"
            ]
          },
          "execution_count": 23,
          "metadata": {},
          "output_type": "execute_result"
        }
      ],
      "source": [
        "df[\"repeated_guest\"].unique()"
      ]
    },
    {
      "cell_type": "code",
      "execution_count": 24,
      "metadata": {
        "colab": {
          "base_uri": "https://localhost:8080/"
        },
        "id": "Zyy-S-UcJmLM",
        "outputId": "d4f6addd-2bfd-42d2-e941-7efb46b6b097"
      },
      "outputs": [
        {
          "data": {
            "text/plain": [
              "array([ 0,  3,  1,  2, 11,  4,  5, 13,  6], dtype=int64)"
            ]
          },
          "execution_count": 24,
          "metadata": {},
          "output_type": "execute_result"
        }
      ],
      "source": [
        "df[\"no_of_previous_cancellations\"].unique()"
      ]
    },
    {
      "cell_type": "code",
      "execution_count": 25,
      "metadata": {
        "colab": {
          "base_uri": "https://localhost:8080/"
        },
        "id": "Atu-cuokJumo",
        "outputId": "c2965682-b2b8-430d-b563-2cafe06b69f9"
      },
      "outputs": [
        {
          "data": {
            "text/plain": [
              "array([ 0,  5,  1,  3,  4, 12, 19,  2, 15, 17,  7, 20, 16, 50, 13,  6, 14,\n",
              "       34, 18,  8, 10, 23, 11, 49, 47, 53,  9, 33, 22, 24, 52, 21, 48, 28,\n",
              "       39, 25, 31, 38, 26, 51, 42, 37, 35, 56, 44, 27, 32, 55, 45, 30, 57,\n",
              "       46, 54, 43, 58, 41, 29, 40, 36], dtype=int64)"
            ]
          },
          "execution_count": 25,
          "metadata": {},
          "output_type": "execute_result"
        }
      ],
      "source": [
        "df[\"no_of_previous_bookings_not_canceled\"].unique()"
      ]
    },
    {
      "cell_type": "code",
      "execution_count": 26,
      "metadata": {
        "colab": {
          "base_uri": "https://localhost:8080/"
        },
        "id": "ktmz9vPpJ6mV",
        "outputId": "79972ead-f0ed-410a-9c28-3801310ff90e"
      },
      "outputs": [
        {
          "data": {
            "text/plain": [
              "540.0"
            ]
          },
          "execution_count": 26,
          "metadata": {},
          "output_type": "execute_result"
        }
      ],
      "source": [
        "df[\"avg_price_per_room\"].max()"
      ]
    },
    {
      "cell_type": "code",
      "execution_count": 27,
      "metadata": {
        "colab": {
          "base_uri": "https://localhost:8080/"
        },
        "id": "LsMeZn34KA7C",
        "outputId": "bcd6b043-ccbf-49de-998d-5b89fbe4e78d"
      },
      "outputs": [
        {
          "data": {
            "text/plain": [
              "array([0, 1, 3, 2, 4, 5], dtype=int64)"
            ]
          },
          "execution_count": 27,
          "metadata": {},
          "output_type": "execute_result"
        }
      ],
      "source": [
        "df[\"no_of_special_requests\"].unique()"
      ]
    },
    {
      "cell_type": "code",
      "execution_count": 30,
      "metadata": {},
      "outputs": [
        {
          "data": {
            "text/plain": [
              "array(['Room_Type 1', 'Room_Type 4', 'Room_Type 2', 'Room_Type 6',\n",
              "       'Room_Type 5', 'Room_Type 7', 'Room_Type 3'], dtype=object)"
            ]
          },
          "execution_count": 30,
          "metadata": {},
          "output_type": "execute_result"
        }
      ],
      "source": [
        "df[\"room_type_reserved\"].unique()"
      ]
    },
    {
      "cell_type": "markdown",
      "metadata": {
        "id": "5SP3CrqI4-Cu"
      },
      "source": [
        "### 2.1. Univariate Analysis"
      ]
    },
    {
      "cell_type": "code",
      "execution_count": 31,
      "metadata": {
        "id": "XGKpr5-who-W"
      },
      "outputs": [
        {
          "ename": "ValueError",
          "evalue": "Could not interpret input 'index'",
          "output_type": "error",
          "traceback": [
            "\u001b[1;31m---------------------------------------------------------------------------\u001b[0m",
            "\u001b[1;31mValueError\u001b[0m                                Traceback (most recent call last)",
            "\u001b[1;32md:\\Courses\\Epsilon\\Data Science - Final Project\\HotelReservation_Analysis.ipynb Cell 31\u001b[0m line \u001b[0;36m1\n\u001b[1;32m----> <a href='vscode-notebook-cell:/d%3A/Courses/Epsilon/Data%20Science%20-%20Final%20Project/HotelReservation_Analysis.ipynb#X40sZmlsZQ%3D%3D?line=0'>1</a>\u001b[0m sns\u001b[39m.\u001b[39;49mbarplot(df[\u001b[39m\"\u001b[39;49m\u001b[39mno_of_adults\u001b[39;49m\u001b[39m\"\u001b[39;49m]\u001b[39m.\u001b[39;49mvalue_counts()\u001b[39m.\u001b[39;49mreset_index(), x \u001b[39m=\u001b[39;49m \u001b[39m\"\u001b[39;49m\u001b[39mindex\u001b[39;49m\u001b[39m\"\u001b[39;49m, y \u001b[39m=\u001b[39;49m \u001b[39m\"\u001b[39;49m\u001b[39mno_of_adults\u001b[39;49m\u001b[39m\"\u001b[39;49m)\n",
            "File \u001b[1;32mc:\\Users\\islam\\anaconda3\\envs\\ML2\\lib\\site-packages\\seaborn\\categorical.py:2755\u001b[0m, in \u001b[0;36mbarplot\u001b[1;34m(data, x, y, hue, order, hue_order, estimator, errorbar, n_boot, units, seed, orient, color, palette, saturation, width, errcolor, errwidth, capsize, dodge, ci, ax, **kwargs)\u001b[0m\n\u001b[0;32m   2752\u001b[0m \u001b[39mif\u001b[39;00m estimator \u001b[39mis\u001b[39;00m \u001b[39mlen\u001b[39m:\n\u001b[0;32m   2753\u001b[0m     estimator \u001b[39m=\u001b[39m \u001b[39m\"\u001b[39m\u001b[39msize\u001b[39m\u001b[39m\"\u001b[39m\n\u001b[1;32m-> 2755\u001b[0m plotter \u001b[39m=\u001b[39m _BarPlotter(x, y, hue, data, order, hue_order,\n\u001b[0;32m   2756\u001b[0m                       estimator, errorbar, n_boot, units, seed,\n\u001b[0;32m   2757\u001b[0m                       orient, color, palette, saturation,\n\u001b[0;32m   2758\u001b[0m                       width, errcolor, errwidth, capsize, dodge)\n\u001b[0;32m   2760\u001b[0m \u001b[39mif\u001b[39;00m ax \u001b[39mis\u001b[39;00m \u001b[39mNone\u001b[39;00m:\n\u001b[0;32m   2761\u001b[0m     ax \u001b[39m=\u001b[39m plt\u001b[39m.\u001b[39mgca()\n",
            "File \u001b[1;32mc:\\Users\\islam\\anaconda3\\envs\\ML2\\lib\\site-packages\\seaborn\\categorical.py:1530\u001b[0m, in \u001b[0;36m_BarPlotter.__init__\u001b[1;34m(self, x, y, hue, data, order, hue_order, estimator, errorbar, n_boot, units, seed, orient, color, palette, saturation, width, errcolor, errwidth, capsize, dodge)\u001b[0m\n\u001b[0;32m   1525\u001b[0m \u001b[39mdef\u001b[39;00m \u001b[39m__init__\u001b[39m(\u001b[39mself\u001b[39m, x, y, hue, data, order, hue_order,\n\u001b[0;32m   1526\u001b[0m              estimator, errorbar, n_boot, units, seed,\n\u001b[0;32m   1527\u001b[0m              orient, color, palette, saturation, width,\n\u001b[0;32m   1528\u001b[0m              errcolor, errwidth, capsize, dodge):\n\u001b[0;32m   1529\u001b[0m \u001b[39m    \u001b[39m\u001b[39m\"\"\"Initialize the plotter.\"\"\"\u001b[39;00m\n\u001b[1;32m-> 1530\u001b[0m     \u001b[39mself\u001b[39;49m\u001b[39m.\u001b[39;49mestablish_variables(x, y, hue, data, orient,\n\u001b[0;32m   1531\u001b[0m                              order, hue_order, units)\n\u001b[0;32m   1532\u001b[0m     \u001b[39mself\u001b[39m\u001b[39m.\u001b[39mestablish_colors(color, palette, saturation)\n\u001b[0;32m   1533\u001b[0m     \u001b[39mself\u001b[39m\u001b[39m.\u001b[39mestimate_statistic(estimator, errorbar, n_boot, seed)\n",
            "File \u001b[1;32mc:\\Users\\islam\\anaconda3\\envs\\ML2\\lib\\site-packages\\seaborn\\categorical.py:541\u001b[0m, in \u001b[0;36m_CategoricalPlotter.establish_variables\u001b[1;34m(self, x, y, hue, data, orient, order, hue_order, units)\u001b[0m\n\u001b[0;32m    539\u001b[0m     \u001b[39mif\u001b[39;00m \u001b[39misinstance\u001b[39m(var, \u001b[39mstr\u001b[39m):\n\u001b[0;32m    540\u001b[0m         err \u001b[39m=\u001b[39m \u001b[39mf\u001b[39m\u001b[39m\"\u001b[39m\u001b[39mCould not interpret input \u001b[39m\u001b[39m'\u001b[39m\u001b[39m{\u001b[39;00mvar\u001b[39m}\u001b[39;00m\u001b[39m'\u001b[39m\u001b[39m\"\u001b[39m\n\u001b[1;32m--> 541\u001b[0m         \u001b[39mraise\u001b[39;00m \u001b[39mValueError\u001b[39;00m(err)\n\u001b[0;32m    543\u001b[0m \u001b[39m# Figure out the plotting orientation\u001b[39;00m\n\u001b[0;32m    544\u001b[0m orient \u001b[39m=\u001b[39m infer_orient(\n\u001b[0;32m    545\u001b[0m     x, y, orient, require_numeric\u001b[39m=\u001b[39m\u001b[39mself\u001b[39m\u001b[39m.\u001b[39mrequire_numeric\n\u001b[0;32m    546\u001b[0m )\n",
            "\u001b[1;31mValueError\u001b[0m: Could not interpret input 'index'"
          ]
        }
      ],
      "source": [
        "sns.barplot(df[\"no_of_adults\"].value_counts().reset_index(), x = \"index\", y = \"no_of_adults\")"
      ]
    },
    {
      "cell_type": "code",
      "execution_count": null,
      "metadata": {
        "id": "2VYW3hjU-bku"
      },
      "outputs": [],
      "source": [
        "sns.boxplot(df[\"no_of_adults\"])"
      ]
    },
    {
      "cell_type": "code",
      "execution_count": null,
      "metadata": {
        "id": "VJ05lj7HiapM"
      },
      "outputs": [],
      "source": [
        "sns.barplot(df[\"no_of_children\"].value_counts().reset_index(), x = \"index\", y = \"no_of_children\")"
      ]
    },
    {
      "cell_type": "code",
      "execution_count": null,
      "metadata": {
        "id": "9OuTlHNriojd"
      },
      "outputs": [],
      "source": [
        "sns.barplot(df[\"no_of_weekend_nights\"].value_counts().reset_index(), x = \"index\", y = \"no_of_weekend_nights\")"
      ]
    },
    {
      "cell_type": "code",
      "execution_count": null,
      "metadata": {
        "id": "3trrzGwziomV"
      },
      "outputs": [],
      "source": [
        "sns.barplot(df[\"type_of_meal_plan\"].value_counts().reset_index(), x = \"index\", y = \"type_of_meal_plan\")"
      ]
    },
    {
      "cell_type": "code",
      "execution_count": null,
      "metadata": {
        "id": "luznqlZ1kDnu"
      },
      "outputs": [],
      "source": [
        "sns.barplot(df[\"no_of_week_nights\"].value_counts().reset_index(), x = \"index\", y = \"no_of_week_nights\")"
      ]
    },
    {
      "cell_type": "code",
      "execution_count": null,
      "metadata": {
        "id": "qr66eJXkkiyh"
      },
      "outputs": [],
      "source": [
        "sns.barplot(df[\"required_car_parking_space\"].value_counts().reset_index(), x = \"index\", y = \"required_car_parking_space\")"
      ]
    },
    {
      "cell_type": "code",
      "execution_count": null,
      "metadata": {
        "id": "nP_BE6H9kyP7"
      },
      "outputs": [],
      "source": [
        "sns.histplot(df[\"lead_time\"])"
      ]
    },
    {
      "cell_type": "code",
      "execution_count": null,
      "metadata": {
        "id": "d3CNfIyqkySe"
      },
      "outputs": [],
      "source": [
        "sns.barplot(df[\"arrival_year\"].value_counts().reset_index(), x = \"index\", y = \"arrival_year\")"
      ]
    },
    {
      "cell_type": "code",
      "execution_count": null,
      "metadata": {
        "id": "_1-NhGX1n6Tu"
      },
      "outputs": [],
      "source": [
        "sns.barplot(df[\"arrival_month\"].value_counts().reset_index(), x = \"index\", y = \"arrival_month\")"
      ]
    },
    {
      "cell_type": "code",
      "execution_count": null,
      "metadata": {
        "id": "Z4YjSE96InNr"
      },
      "outputs": [],
      "source": [
        "sns.barplot(df[\"arrival_date\"].value_counts().reset_index(), x = \"index\", y = \"arrival_date\")"
      ]
    },
    {
      "cell_type": "code",
      "execution_count": null,
      "metadata": {
        "id": "ccoyLINFOjrB"
      },
      "outputs": [],
      "source": [
        "sns.barplot(df[\"repeated_guest\"].value_counts().reset_index(), x = \"index\", y = \"repeated_guest\")"
      ]
    },
    {
      "cell_type": "code",
      "execution_count": null,
      "metadata": {
        "id": "eqNy28n1OwzH"
      },
      "outputs": [],
      "source": [
        "sns.barplot(df[\"no_of_previous_cancellations\"].value_counts().reset_index(), x = \"index\", y = \"no_of_previous_cancellations\")"
      ]
    },
    {
      "cell_type": "code",
      "execution_count": null,
      "metadata": {
        "id": "VZHBFqivPFka"
      },
      "outputs": [],
      "source": [
        "sns.barplot(df[\"no_of_previous_bookings_not_canceled\"].value_counts().reset_index(), x = \"index\", y = \"no_of_previous_bookings_not_canceled\")"
      ]
    },
    {
      "cell_type": "code",
      "execution_count": null,
      "metadata": {
        "id": "w9yYK0PAPO_L"
      },
      "outputs": [],
      "source": [
        "sns.kdeplot(df[\"avg_price_per_room\"])"
      ]
    },
    {
      "cell_type": "code",
      "execution_count": null,
      "metadata": {
        "id": "-Z88Yu8XP8Hc"
      },
      "outputs": [],
      "source": [
        "sns.barplot(df[\"no_of_special_requests\"].value_counts().reset_index(), x = \"index\", y = \"no_of_special_requests\")"
      ]
    },
    {
      "cell_type": "code",
      "execution_count": null,
      "metadata": {
        "id": "e2td96f5QnJC"
      },
      "outputs": [],
      "source": [
        "sns.barplot(df[label].value_counts().reset_index(), x = \"index\", y = label)"
      ]
    },
    {
      "cell_type": "markdown",
      "metadata": {
        "id": "67z2eTRC4yFZ"
      },
      "source": [
        "### 2.2. Bivariate Analysis"
      ]
    },
    {
      "cell_type": "markdown",
      "metadata": {
        "id": "Sbn9Um0yrhC8"
      },
      "source": [
        "#### Pairplot"
      ]
    },
    {
      "cell_type": "code",
      "execution_count": null,
      "metadata": {
        "id": "22PYE_M1V1zm"
      },
      "outputs": [],
      "source": [
        "sns.pairplot(df)"
      ]
    },
    {
      "cell_type": "code",
      "execution_count": null,
      "metadata": {
        "id": "ExFxit-n4iOU"
      },
      "outputs": [],
      "source": [
        "df[\"booking_status\"] = df[\"booking_status\"].map({\"Not_Canceled\" : 0, \"Canceled\" : 1})\n",
        "df[\"booking_status\"].value_counts()"
      ]
    },
    {
      "cell_type": "markdown",
      "metadata": {
        "id": "piwm4fCxrnGA"
      },
      "source": [
        "#### Correlation Chart with booking status"
      ]
    },
    {
      "cell_type": "code",
      "execution_count": null,
      "metadata": {
        "id": "IB9ka4I24qSJ"
      },
      "outputs": [],
      "source": [
        "status_corr = df.corr()[\"booking_status\"].reset_index()\n",
        "sns.barplot(status_corr, x = \"booking_status\", y = \"index\")"
      ]
    },
    {
      "cell_type": "code",
      "execution_count": null,
      "metadata": {
        "id": "npNSbh3rZTP8"
      },
      "outputs": [],
      "source": [
        "temp = df.groupby([\"no_of_special_requests\", \"booking_status\"]).count()[\"no_of_adults\"].reset_index()\n",
        "temp[\"booking_status\"] = temp[\"booking_status\"].astype(\"str\")\n",
        "fig = px.bar(temp, x = \"no_of_special_requests\", y = \"no_of_adults\", color = \"booking_status\", barmode=\"group\", height= 400)\n",
        "fig.show()"
      ]
    },
    {
      "cell_type": "code",
      "execution_count": null,
      "metadata": {
        "id": "OxNzThn6sAwt"
      },
      "outputs": [],
      "source": [
        "fig = px.box(data_frame = df, x = \"booking_status\", y = \"no_of_adults\")\n",
        "fig.show()"
      ]
    },
    {
      "cell_type": "code",
      "execution_count": null,
      "metadata": {
        "id": "VvCVYMM-d7OQ"
      },
      "outputs": [],
      "source": [
        "fig = px.violin(data_frame = df, x = \"booking_status\", y = \"avg_price_per_room\")\n",
        "fig.show()"
      ]
    },
    {
      "cell_type": "code",
      "execution_count": null,
      "metadata": {
        "id": "OnVZhEcneZUP"
      },
      "outputs": [],
      "source": [
        "fig = px.violin(data_frame = df, x = \"booking_status\", y = \"lead_time\")\n",
        "fig.show()"
      ]
    },
    {
      "cell_type": "code",
      "execution_count": null,
      "metadata": {
        "id": "qhqrVM18hsYO"
      },
      "outputs": [],
      "source": [
        "temp = df.groupby([\"no_of_week_nights\", \"booking_status\"]).count()[\"no_of_adults\"].reset_index()\n",
        "temp[\"booking_status\"] = temp[\"booking_status\"].astype(\"str\")\n",
        "fig = px.bar(temp, x = \"no_of_week_nights\", y = \"no_of_adults\", color = \"booking_status\", barmode=\"group\", height= 400)\n",
        "fig.show()"
      ]
    },
    {
      "cell_type": "code",
      "execution_count": null,
      "metadata": {
        "id": "tMwUP9pcxm46"
      },
      "outputs": [],
      "source": [
        "px.pie(data_frame = df, )"
      ]
    },
    {
      "cell_type": "code",
      "execution_count": null,
      "metadata": {
        "id": "r4pvo8P1iOMe"
      },
      "outputs": [],
      "source": [
        "fig = px.violin(data_frame = df, x = \"no_of_previous_cancellations\", y = \"no_of_previous_bookings_not_canceled\")\n",
        "fig.show()"
      ]
    }
  ],
  "metadata": {
    "colab": {
      "collapsed_sections": [
        "CkKcUlnM1ICL",
        "du7XZXoe1PSu",
        "0VC4tQ8Y1g-I",
        "bep-9ydP3Zol",
        "5SP3CrqI4-Cu",
        "Sbn9Um0yrhC8"
      ],
      "provenance": []
    },
    "kernelspec": {
      "display_name": "Python 3",
      "name": "python3"
    },
    "language_info": {
      "codemirror_mode": {
        "name": "ipython",
        "version": 3
      },
      "file_extension": ".py",
      "mimetype": "text/x-python",
      "name": "python",
      "nbconvert_exporter": "python",
      "pygments_lexer": "ipython3",
      "version": "3.9.18"
    }
  },
  "nbformat": 4,
  "nbformat_minor": 0
}
