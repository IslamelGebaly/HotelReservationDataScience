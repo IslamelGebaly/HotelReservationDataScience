{
  "cells": [
    {
      "cell_type": "markdown",
      "metadata": {
        "id": "ytX5xk8trBpr"
      },
      "source": [
        "# Importing Libraries and data"
      ]
    },
    {
      "cell_type": "code",
      "execution_count": 4,
      "metadata": {
        "id": "Kgv4aSlxpxq5"
      },
      "outputs": [],
      "source": [
        "# Importing Libraries\n",
        "import pandas as pd\n",
        "import numpy as np\n",
        "import seaborn as sns\n",
        "from imblearn.over_sampling import SMOTE\n",
        "from sklearn.preprocessing import OneHotEncoder\n",
        "from sklearn.preprocessing import PowerTransformer\n",
        "from sklearn.preprocessing import MinMaxScaler, RobustScaler\n",
        "from sklearn.model_selection import train_test_split\n",
        "from imblearn.pipeline import Pipeline\n",
        "from sklearn.impute import KNNImputer\n",
        "from sklearn.feature_selection import SequentialFeatureSelector, SelectKBest, f_regression,RFE\n",
        "from sklearn.compose import ColumnTransformer\n",
        "from xgboost import XGBRegressor\n",
        "from sklearn.linear_model import LogisticRegression\n",
        "from sklearn.svm import SVC\n",
        "from sklearn.tree import DecisionTreeClassifier\n",
        "from sklearn.neighbors import KNeighborsClassifier\n",
        "from sklearn.ensemble import RandomForestClassifier\n",
        "from xgboost import XGBClassifier\n",
        "from sklearn.metrics import make_scorer, accuracy_score, precision_score, recall_score, f1_score, roc_auc_score\n",
        "from sklearn.model_selection import cross_validate\n",
        "from sklearn.model_selection import GridSearchCV"
      ]
    },
    {
      "cell_type": "code",
      "execution_count": 5,
      "metadata": {
        "id": "ZWRFgEOzrU9Y"
      },
      "outputs": [],
      "source": [
        "## To Ignore Warnings\n",
        "from warnings import filterwarnings\n",
        "filterwarnings('ignore')"
      ]
    },
    {
      "cell_type": "code",
      "execution_count": 6,
      "metadata": {
        "colab": {
          "base_uri": "https://localhost:8080/",
          "height": 0
        },
        "id": "SUMsx0fa5c-c",
        "outputId": "588d51ba-8aa5-4c8f-d0b1-61292a302d7a"
      },
      "outputs": [
        {
          "data": {
            "text/html": [
              "<div>\n",
              "<style scoped>\n",
              "    .dataframe tbody tr th:only-of-type {\n",
              "        vertical-align: middle;\n",
              "    }\n",
              "\n",
              "    .dataframe tbody tr th {\n",
              "        vertical-align: top;\n",
              "    }\n",
              "\n",
              "    .dataframe thead th {\n",
              "        text-align: right;\n",
              "    }\n",
              "</style>\n",
              "<table border=\"1\" class=\"dataframe\">\n",
              "  <thead>\n",
              "    <tr style=\"text-align: right;\">\n",
              "      <th></th>\n",
              "      <th>no_of_adults</th>\n",
              "      <th>no_of_children</th>\n",
              "      <th>no_of_weekend_nights</th>\n",
              "      <th>no_of_week_nights</th>\n",
              "      <th>type_of_meal_plan</th>\n",
              "      <th>required_car_parking_space</th>\n",
              "      <th>room_type_reserved</th>\n",
              "      <th>lead_time</th>\n",
              "      <th>arrival_year</th>\n",
              "      <th>arrival_month</th>\n",
              "      <th>arrival_date</th>\n",
              "      <th>market_segment_type</th>\n",
              "      <th>repeated_guest</th>\n",
              "      <th>no_of_previous_cancellations</th>\n",
              "      <th>no_of_previous_bookings_not_canceled</th>\n",
              "      <th>avg_price_per_room</th>\n",
              "      <th>no_of_special_requests</th>\n",
              "      <th>booking_status</th>\n",
              "    </tr>\n",
              "    <tr>\n",
              "      <th>Booking_ID</th>\n",
              "      <th></th>\n",
              "      <th></th>\n",
              "      <th></th>\n",
              "      <th></th>\n",
              "      <th></th>\n",
              "      <th></th>\n",
              "      <th></th>\n",
              "      <th></th>\n",
              "      <th></th>\n",
              "      <th></th>\n",
              "      <th></th>\n",
              "      <th></th>\n",
              "      <th></th>\n",
              "      <th></th>\n",
              "      <th></th>\n",
              "      <th></th>\n",
              "      <th></th>\n",
              "      <th></th>\n",
              "    </tr>\n",
              "  </thead>\n",
              "  <tbody>\n",
              "    <tr>\n",
              "      <th>INN00001</th>\n",
              "      <td>2</td>\n",
              "      <td>0</td>\n",
              "      <td>1</td>\n",
              "      <td>2</td>\n",
              "      <td>Meal Plan 1</td>\n",
              "      <td>0</td>\n",
              "      <td>Room_Type 1</td>\n",
              "      <td>224</td>\n",
              "      <td>2017</td>\n",
              "      <td>10</td>\n",
              "      <td>2</td>\n",
              "      <td>Offline</td>\n",
              "      <td>0</td>\n",
              "      <td>0</td>\n",
              "      <td>0</td>\n",
              "      <td>65.00</td>\n",
              "      <td>0</td>\n",
              "      <td>Not_Canceled</td>\n",
              "    </tr>\n",
              "    <tr>\n",
              "      <th>INN00002</th>\n",
              "      <td>2</td>\n",
              "      <td>0</td>\n",
              "      <td>2</td>\n",
              "      <td>3</td>\n",
              "      <td>Not Selected</td>\n",
              "      <td>0</td>\n",
              "      <td>Room_Type 1</td>\n",
              "      <td>5</td>\n",
              "      <td>2018</td>\n",
              "      <td>11</td>\n",
              "      <td>6</td>\n",
              "      <td>Online</td>\n",
              "      <td>0</td>\n",
              "      <td>0</td>\n",
              "      <td>0</td>\n",
              "      <td>106.68</td>\n",
              "      <td>1</td>\n",
              "      <td>Not_Canceled</td>\n",
              "    </tr>\n",
              "    <tr>\n",
              "      <th>INN00003</th>\n",
              "      <td>1</td>\n",
              "      <td>0</td>\n",
              "      <td>2</td>\n",
              "      <td>1</td>\n",
              "      <td>Meal Plan 1</td>\n",
              "      <td>0</td>\n",
              "      <td>Room_Type 1</td>\n",
              "      <td>1</td>\n",
              "      <td>2018</td>\n",
              "      <td>2</td>\n",
              "      <td>28</td>\n",
              "      <td>Online</td>\n",
              "      <td>0</td>\n",
              "      <td>0</td>\n",
              "      <td>0</td>\n",
              "      <td>60.00</td>\n",
              "      <td>0</td>\n",
              "      <td>Canceled</td>\n",
              "    </tr>\n",
              "    <tr>\n",
              "      <th>INN00004</th>\n",
              "      <td>2</td>\n",
              "      <td>0</td>\n",
              "      <td>0</td>\n",
              "      <td>2</td>\n",
              "      <td>Meal Plan 1</td>\n",
              "      <td>0</td>\n",
              "      <td>Room_Type 1</td>\n",
              "      <td>211</td>\n",
              "      <td>2018</td>\n",
              "      <td>5</td>\n",
              "      <td>20</td>\n",
              "      <td>Online</td>\n",
              "      <td>0</td>\n",
              "      <td>0</td>\n",
              "      <td>0</td>\n",
              "      <td>100.00</td>\n",
              "      <td>0</td>\n",
              "      <td>Canceled</td>\n",
              "    </tr>\n",
              "    <tr>\n",
              "      <th>INN00005</th>\n",
              "      <td>2</td>\n",
              "      <td>0</td>\n",
              "      <td>1</td>\n",
              "      <td>1</td>\n",
              "      <td>Not Selected</td>\n",
              "      <td>0</td>\n",
              "      <td>Room_Type 1</td>\n",
              "      <td>48</td>\n",
              "      <td>2018</td>\n",
              "      <td>4</td>\n",
              "      <td>11</td>\n",
              "      <td>Online</td>\n",
              "      <td>0</td>\n",
              "      <td>0</td>\n",
              "      <td>0</td>\n",
              "      <td>94.50</td>\n",
              "      <td>0</td>\n",
              "      <td>Canceled</td>\n",
              "    </tr>\n",
              "    <tr>\n",
              "      <th>INN00006</th>\n",
              "      <td>2</td>\n",
              "      <td>0</td>\n",
              "      <td>0</td>\n",
              "      <td>2</td>\n",
              "      <td>Meal Plan 2</td>\n",
              "      <td>0</td>\n",
              "      <td>Room_Type 1</td>\n",
              "      <td>346</td>\n",
              "      <td>2018</td>\n",
              "      <td>9</td>\n",
              "      <td>13</td>\n",
              "      <td>Online</td>\n",
              "      <td>0</td>\n",
              "      <td>0</td>\n",
              "      <td>0</td>\n",
              "      <td>115.00</td>\n",
              "      <td>1</td>\n",
              "      <td>Canceled</td>\n",
              "    </tr>\n",
              "    <tr>\n",
              "      <th>INN00007</th>\n",
              "      <td>2</td>\n",
              "      <td>0</td>\n",
              "      <td>1</td>\n",
              "      <td>3</td>\n",
              "      <td>Meal Plan 1</td>\n",
              "      <td>0</td>\n",
              "      <td>Room_Type 1</td>\n",
              "      <td>34</td>\n",
              "      <td>2017</td>\n",
              "      <td>10</td>\n",
              "      <td>15</td>\n",
              "      <td>Online</td>\n",
              "      <td>0</td>\n",
              "      <td>0</td>\n",
              "      <td>0</td>\n",
              "      <td>107.55</td>\n",
              "      <td>1</td>\n",
              "      <td>Not_Canceled</td>\n",
              "    </tr>\n",
              "    <tr>\n",
              "      <th>INN00008</th>\n",
              "      <td>2</td>\n",
              "      <td>0</td>\n",
              "      <td>1</td>\n",
              "      <td>3</td>\n",
              "      <td>Meal Plan 1</td>\n",
              "      <td>0</td>\n",
              "      <td>Room_Type 4</td>\n",
              "      <td>83</td>\n",
              "      <td>2018</td>\n",
              "      <td>12</td>\n",
              "      <td>26</td>\n",
              "      <td>Online</td>\n",
              "      <td>0</td>\n",
              "      <td>0</td>\n",
              "      <td>0</td>\n",
              "      <td>105.61</td>\n",
              "      <td>1</td>\n",
              "      <td>Not_Canceled</td>\n",
              "    </tr>\n",
              "    <tr>\n",
              "      <th>INN00009</th>\n",
              "      <td>3</td>\n",
              "      <td>0</td>\n",
              "      <td>0</td>\n",
              "      <td>4</td>\n",
              "      <td>Meal Plan 1</td>\n",
              "      <td>0</td>\n",
              "      <td>Room_Type 1</td>\n",
              "      <td>121</td>\n",
              "      <td>2018</td>\n",
              "      <td>7</td>\n",
              "      <td>6</td>\n",
              "      <td>Offline</td>\n",
              "      <td>0</td>\n",
              "      <td>0</td>\n",
              "      <td>0</td>\n",
              "      <td>96.90</td>\n",
              "      <td>1</td>\n",
              "      <td>Not_Canceled</td>\n",
              "    </tr>\n",
              "    <tr>\n",
              "      <th>INN00010</th>\n",
              "      <td>2</td>\n",
              "      <td>0</td>\n",
              "      <td>0</td>\n",
              "      <td>5</td>\n",
              "      <td>Meal Plan 1</td>\n",
              "      <td>0</td>\n",
              "      <td>Room_Type 4</td>\n",
              "      <td>44</td>\n",
              "      <td>2018</td>\n",
              "      <td>10</td>\n",
              "      <td>18</td>\n",
              "      <td>Online</td>\n",
              "      <td>0</td>\n",
              "      <td>0</td>\n",
              "      <td>0</td>\n",
              "      <td>133.44</td>\n",
              "      <td>3</td>\n",
              "      <td>Not_Canceled</td>\n",
              "    </tr>\n",
              "  </tbody>\n",
              "</table>\n",
              "</div>"
            ],
            "text/plain": [
              "            no_of_adults  no_of_children  no_of_weekend_nights  \\\n",
              "Booking_ID                                                       \n",
              "INN00001               2               0                     1   \n",
              "INN00002               2               0                     2   \n",
              "INN00003               1               0                     2   \n",
              "INN00004               2               0                     0   \n",
              "INN00005               2               0                     1   \n",
              "INN00006               2               0                     0   \n",
              "INN00007               2               0                     1   \n",
              "INN00008               2               0                     1   \n",
              "INN00009               3               0                     0   \n",
              "INN00010               2               0                     0   \n",
              "\n",
              "            no_of_week_nights type_of_meal_plan  required_car_parking_space  \\\n",
              "Booking_ID                                                                    \n",
              "INN00001                    2       Meal Plan 1                           0   \n",
              "INN00002                    3      Not Selected                           0   \n",
              "INN00003                    1       Meal Plan 1                           0   \n",
              "INN00004                    2       Meal Plan 1                           0   \n",
              "INN00005                    1      Not Selected                           0   \n",
              "INN00006                    2       Meal Plan 2                           0   \n",
              "INN00007                    3       Meal Plan 1                           0   \n",
              "INN00008                    3       Meal Plan 1                           0   \n",
              "INN00009                    4       Meal Plan 1                           0   \n",
              "INN00010                    5       Meal Plan 1                           0   \n",
              "\n",
              "           room_type_reserved  lead_time  arrival_year  arrival_month  \\\n",
              "Booking_ID                                                              \n",
              "INN00001          Room_Type 1        224          2017             10   \n",
              "INN00002          Room_Type 1          5          2018             11   \n",
              "INN00003          Room_Type 1          1          2018              2   \n",
              "INN00004          Room_Type 1        211          2018              5   \n",
              "INN00005          Room_Type 1         48          2018              4   \n",
              "INN00006          Room_Type 1        346          2018              9   \n",
              "INN00007          Room_Type 1         34          2017             10   \n",
              "INN00008          Room_Type 4         83          2018             12   \n",
              "INN00009          Room_Type 1        121          2018              7   \n",
              "INN00010          Room_Type 4         44          2018             10   \n",
              "\n",
              "            arrival_date market_segment_type  repeated_guest  \\\n",
              "Booking_ID                                                     \n",
              "INN00001               2             Offline               0   \n",
              "INN00002               6              Online               0   \n",
              "INN00003              28              Online               0   \n",
              "INN00004              20              Online               0   \n",
              "INN00005              11              Online               0   \n",
              "INN00006              13              Online               0   \n",
              "INN00007              15              Online               0   \n",
              "INN00008              26              Online               0   \n",
              "INN00009               6             Offline               0   \n",
              "INN00010              18              Online               0   \n",
              "\n",
              "            no_of_previous_cancellations  \\\n",
              "Booking_ID                                 \n",
              "INN00001                               0   \n",
              "INN00002                               0   \n",
              "INN00003                               0   \n",
              "INN00004                               0   \n",
              "INN00005                               0   \n",
              "INN00006                               0   \n",
              "INN00007                               0   \n",
              "INN00008                               0   \n",
              "INN00009                               0   \n",
              "INN00010                               0   \n",
              "\n",
              "            no_of_previous_bookings_not_canceled  avg_price_per_room  \\\n",
              "Booking_ID                                                             \n",
              "INN00001                                       0               65.00   \n",
              "INN00002                                       0              106.68   \n",
              "INN00003                                       0               60.00   \n",
              "INN00004                                       0              100.00   \n",
              "INN00005                                       0               94.50   \n",
              "INN00006                                       0              115.00   \n",
              "INN00007                                       0              107.55   \n",
              "INN00008                                       0              105.61   \n",
              "INN00009                                       0               96.90   \n",
              "INN00010                                       0              133.44   \n",
              "\n",
              "            no_of_special_requests booking_status  \n",
              "Booking_ID                                         \n",
              "INN00001                         0   Not_Canceled  \n",
              "INN00002                         1   Not_Canceled  \n",
              "INN00003                         0       Canceled  \n",
              "INN00004                         0       Canceled  \n",
              "INN00005                         0       Canceled  \n",
              "INN00006                         1       Canceled  \n",
              "INN00007                         1   Not_Canceled  \n",
              "INN00008                         1   Not_Canceled  \n",
              "INN00009                         1   Not_Canceled  \n",
              "INN00010                         3   Not_Canceled  "
            ]
          },
          "execution_count": 6,
          "metadata": {},
          "output_type": "execute_result"
        }
      ],
      "source": [
        "# Reading Data\n",
        "df = pd.read_csv(\"Hotel Reservations.csv\", index_col = \"Booking_ID\")\n",
        "df.head(10)"
      ]
    },
    {
      "cell_type": "code",
      "execution_count": 7,
      "metadata": {
        "id": "NJZjCduks3DN"
      },
      "outputs": [],
      "source": [
        "#Seperating Categorical and Numerical Columns and Storing the Target Column Name\n",
        "label = 'booking_status'\n",
        "categorical_columns = df.drop(label, axis = 1).select_dtypes(\"object\").columns.to_list()\n",
        "numerical_columns = df.select_dtypes([\"float\", \"int\"]).columns.to_list()"
      ]
    },
    {
      "cell_type": "code",
      "execution_count": 8,
      "metadata": {
        "colab": {
          "base_uri": "https://localhost:8080/"
        },
        "id": "D7N5QQ0L8BgS",
        "outputId": "94fd73ee-f9da-478d-9474-630cc9b55bcf"
      },
      "outputs": [
        {
          "data": {
            "text/plain": [
              "Booking_ID\n",
              "INN00001    0\n",
              "INN00002    0\n",
              "INN00003    1\n",
              "INN00004    1\n",
              "INN00005    1\n",
              "           ..\n",
              "INN36271    0\n",
              "INN36272    1\n",
              "INN36273    0\n",
              "INN36274    1\n",
              "INN36275    0\n",
              "Name: booking_status, Length: 36275, dtype: int64"
            ]
          },
          "execution_count": 8,
          "metadata": {},
          "output_type": "execute_result"
        }
      ],
      "source": [
        "#Encoding the Target Column\n",
        "df[label] = df[label].map({\"Canceled\" : 1, \"Not_Canceled\" : 0})\n",
        "df[label]"
      ]
    },
    {
      "cell_type": "markdown",
      "metadata": {
        "id": "RxTYke9_ZI6j"
      },
      "source": [
        "# Feature Engineering"
      ]
    },
    {
      "cell_type": "code",
      "execution_count": 9,
      "metadata": {
        "id": "Bx9ZQ-bwZGxW"
      },
      "outputs": [],
      "source": [
        "#Total Number of Members for each Group\n",
        "df[\"no_of_members\"] = df[\"no_of_adults\"] + df[\"no_of_children\"]\n",
        "#Total Number of Nights They will Stay\n",
        "df[\"no_of_nights\"] = df[\"no_of_weekend_nights\"] + df[\"no_of_week_nights\"]"
      ]
    },
    {
      "cell_type": "markdown",
      "metadata": {
        "id": "FIqlhNeN3EYy"
      },
      "source": [
        "# Pipeline"
      ]
    },
    {
      "cell_type": "code",
      "execution_count": 10,
      "metadata": {
        "id": "cijNYnh4obid"
      },
      "outputs": [],
      "source": [
        "#scaler = PowerTransformer(method = \"box-cox\", standardize = False)\n",
        "X = df.drop(label, axis = 1)\n",
        "y = df[label]"
      ]
    },
    {
      "cell_type": "code",
      "execution_count": 11,
      "metadata": {
        "id": "B4jyevs-YqaT"
      },
      "outputs": [],
      "source": [
        "X_train, X_test, y_train, y_test = train_test_split(X, y, test_size = .2, random_state = 42)"
      ]
    },
    {
      "cell_type": "code",
      "execution_count": 12,
      "metadata": {
        "id": "XktdtUUU97qj"
      },
      "outputs": [],
      "source": [
        "#Classification Models\n",
        "models = [\n",
        "    ('Logistic Regression', LogisticRegression(random_state = 42)),\n",
        "    ('SVC', SVC(random_state = 42)),\n",
        "    ('DTC', DecisionTreeClassifier(random_state = 42)),\n",
        "    ('KNC', KNeighborsClassifier()),\n",
        "    ('RFC', RandomForestClassifier(random_state = 42)),\n",
        "    (\"XGC\", XGBClassifier(random_state = 42))\n",
        "]"
      ]
    },
    {
      "cell_type": "code",
      "execution_count": 13,
      "metadata": {
        "id": "69pojfj5f-KI"
      },
      "outputs": [],
      "source": [
        "#Feature Selection Object\n",
        "RFE_selector = RFE(XGBRegressor(), n_features_to_select=12)"
      ]
    },
    {
      "cell_type": "code",
      "execution_count": 14,
      "metadata": {
        "id": "LLTYJYgvgE36"
      },
      "outputs": [],
      "source": [
        "#Column Transformation Object\n",
        "preprocessor = ColumnTransformer(transformers = [\n",
        "    (\"num\", RobustScaler(), numerical_columns),\n",
        "    (\"cat\", OneHotEncoder(sparse = False, drop = \"first\"), categorical_columns),\n",
        "])"
      ]
    },
    {
      "cell_type": "code",
      "execution_count": 15,
      "metadata": {
        "id": "RaFh2Y6AgHVD"
      },
      "outputs": [],
      "source": [
        "# Classification Scoring Methods for Cross Validation\n",
        "scoring = {\n",
        "    'accuracy': make_scorer(accuracy_score),\n",
        "    'precision': make_scorer(precision_score),\n",
        "    'recall': make_scorer(recall_score),\n",
        "    'f1': make_scorer(f1_score),\n",
        "    'roc_auc': make_scorer(roc_auc_score)\n",
        "}"
      ]
    },
    {
      "cell_type": "code",
      "execution_count": 16,
      "metadata": {
        "colab": {
          "base_uri": "https://localhost:8080/"
        },
        "id": "xJFApP9D3I7n",
        "outputId": "30c0dc89-9974-4557-aa83-46199f60690b"
      },
      "outputs": [
        {
          "name": "stdout",
          "output_type": "stream",
          "text": [
            "test : 0.7789662301860785\n",
            "train: 0.7798897312198485\n",
            "**************************************************\n"
          ]
        }
      ],
      "source": [
        "# looping Each Model to choose the best \n",
        "for model_name, model in models:\n",
        "  steps = []\n",
        "  #Column Transformation Step\n",
        "  steps.append((\"preprocessor\", preprocessor))\n",
        "  #Oversampling Step\n",
        "  steps.append((\"smote\", SMOTE()))\n",
        "  #Feature Selection Step\n",
        "  steps.append((\"RFE_Selector\", RFE_selector))\n",
        "  #Model Training Step\n",
        "  steps.append((model_name, model))\n",
        "  #Defining Pipeline\n",
        "  pipeline = Pipeline(steps = steps)\n",
        "  #Evaluation Using Cross Validation\n",
        "  cv_results = cross_validate(pipeline, X, y, scoring=scoring, cv=5, return_train_score=True)\n",
        "\n",
        "  #Evaluating Based on Accuracy\n",
        "  print(\"test :\", cv_results['test_accuracy'].mean())\n",
        "  print(\"train:\", cv_results['train_accuracy'].mean())\n",
        "  print('*' * 50)"
      ]
    },
    {
      "cell_type": "markdown",
      "metadata": {
        "id": "w2__5579zEIx"
      },
      "source": [
        "# Hyperparameter Tuning"
      ]
    },
    {
      "cell_type": "code",
      "execution_count": null,
      "metadata": {
        "id": "VYjilQlpzIX_"
      },
      "outputs": [],
      "source": [
        "# Define your parameter grid for GridSearchCV\n",
        "param_grid = {\n",
        "    'XGC__n_estimators': [50, 100, 200],\n",
        "    'XGC__max_depth': [3, 4, 5],\n",
        "    'XGC__learning_rate': [0.1, 0.2, 0.3]\n",
        "}"
      ]
    },
    {
      "cell_type": "code",
      "execution_count": null,
      "metadata": {
        "colab": {
          "base_uri": "https://localhost:8080/"
        },
        "id": "IKaZB8On083E",
        "outputId": "2263ae34-7e05-4571-ccd0-d033d0d93717"
      },
      "outputs": [
        {
          "name": "stdout",
          "output_type": "stream",
          "text": [
            "test : 0.8851274982770503\n",
            "train: 0.9068022053756032\n",
            "**************************************************\n"
          ]
        }
      ],
      "source": [
        "#XGBClassifier Pipeline\n",
        "steps = []\n",
        "steps.append((\"preprocessor\", preprocessor))\n",
        "steps.append((\"smote\", SMOTE()))\n",
        "steps.append((\"RFE_selector\", RFE_selector))\n",
        "steps.append((\"XGC\", XGBClassifier(random_state=42)))\n",
        "\n",
        "pipeline = Pipeline(steps = steps)\n",
        "cv_results = cross_validate(pipeline, X, y, scoring=scoring, cv=5, return_train_score=True)\n",
        "print(\"test :\", cv_results['test_accuracy'].mean())\n",
        "print(\"train:\", cv_results['train_accuracy'].mean())\n",
        "print('*' * 50)"
      ]
    },
    {
      "cell_type": "code",
      "execution_count": null,
      "metadata": {
        "colab": {
          "base_uri": "https://localhost:8080/"
        },
        "id": "__WrNl8m1lMJ",
        "outputId": "9a44ce90-86bd-415c-c5ad-c8412a5db759"
      },
      "outputs": [
        {
          "name": "stdout",
          "output_type": "stream",
          "text": [
            "Best Parameters: {'XGC__learning_rate': 0.3, 'XGC__max_depth': 5, 'XGC__n_estimators': 200}\n",
            "Best Score: 0.8885182632667126\n"
          ]
        }
      ],
      "source": [
        "#Tuning the Hyperparameters using GridSearchCV\n",
        "grid_search = GridSearchCV(estimator = pipeline, param_grid = param_grid, scoring=scoring[\"accuracy\"], n_jobs=-1, return_train_score=True)\n",
        "\n",
        "grid_search.fit(X, y)\n",
        "\n",
        "best_params = grid_search.best_params_\n",
        "best_score = grid_search.best_score_\n",
        "\n",
        "print(\"Best Parameters:\", best_params)\n",
        "print(\"Best Score:\", best_score)"
      ]
    },
    {
      "cell_type": "code",
      "execution_count": null,
      "metadata": {},
      "outputs": [],
      "source": [
        "#Creating and Training the Pipeline\n",
        "steps = []\n",
        "steps.append((\"preprocessor\", preprocessor))\n",
        "steps.append((\"smote\", SMOTE()))\n",
        "steps.append((\"RFE_selector\", RFE_selector))\n",
        "steps.append((\"XGC\", XGBClassifier(random_state=42, learning_rate = 0.3, max_depth = 5, n_estimators = 200)))\n",
        "\n",
        "pipeline = Pipeline(steps=steps)\n",
        "pipeline.fit(X, y)"
      ]
    },
    {
      "cell_type": "code",
      "execution_count": null,
      "metadata": {},
      "outputs": [],
      "source": [
        "#Saving the Pipeline\n",
        "joblib.dump(pipeline, \"pipeline.joblib\")"
      ]
    }
  ],
  "metadata": {
    "colab": {
      "collapsed_sections": [
        "ytX5xk8trBpr",
        "RxTYke9_ZI6j"
      ],
      "provenance": []
    },
    "kernelspec": {
      "display_name": "Python 3",
      "name": "python3"
    },
    "language_info": {
      "codemirror_mode": {
        "name": "ipython",
        "version": 3
      },
      "file_extension": ".py",
      "mimetype": "text/x-python",
      "name": "python",
      "nbconvert_exporter": "python",
      "pygments_lexer": "ipython3",
      "version": "3.9.18"
    }
  },
  "nbformat": 4,
  "nbformat_minor": 0
}
