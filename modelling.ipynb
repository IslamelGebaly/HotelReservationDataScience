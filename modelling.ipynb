{
  "cells": [
    {
      "cell_type": "markdown",
      "metadata": {
        "id": "ytX5xk8trBpr"
      },
      "source": [
        "# Importing Libraries and data"
      ]
    },
    {
      "cell_type": "code",
      "execution_count": 111,
      "metadata": {
        "id": "Kgv4aSlxpxq5"
      },
      "outputs": [],
      "source": [
        "# Importing Libraries\n",
        "import pandas as pd\n",
        "import numpy as np\n",
        "import seaborn as sns\n",
        "from imblearn.over_sampling import SMOTENC\n",
        "from sklearn.preprocessing import OneHotEncoder\n",
        "from sklearn.preprocessing import PowerTransformer\n",
        "from sklearn.preprocessing import MinMaxScaler, RobustScaler\n",
        "from sklearn.model_selection import train_test_split\n",
        "from imblearn.pipeline import Pipeline\n",
        "from sklearn.impute import KNNImputer\n",
        "from sklearn.feature_selection import SequentialFeatureSelector, SelectKBest, f_regression,RFE\n",
        "from sklearn.compose import ColumnTransformer\n",
        "from xgboost import XGBRegressor\n",
        "from sklearn.linear_model import LogisticRegression\n",
        "from sklearn.svm import SVC\n",
        "from sklearn.tree import DecisionTreeClassifier\n",
        "from sklearn.neighbors import KNeighborsClassifier\n",
        "from sklearn.ensemble import RandomForestClassifier\n",
        "from xgboost import XGBClassifier\n",
        "from sklearn.metrics import make_scorer, accuracy_score, precision_score, recall_score, f1_score, roc_auc_score\n",
        "from sklearn.model_selection import cross_validate\n",
        "from sklearn.model_selection import GridSearchCV\n",
        "import joblib"
      ]
    },
    {
      "cell_type": "code",
      "execution_count": 81,
      "metadata": {
        "id": "ZWRFgEOzrU9Y"
      },
      "outputs": [],
      "source": [
        "## To Ignore Warnings\n",
        "from warnings import filterwarnings\n",
        "filterwarnings('ignore')"
      ]
    },
    {
      "cell_type": "code",
      "execution_count": 82,
      "metadata": {
        "colab": {
          "base_uri": "https://localhost:8080/",
          "height": 0
        },
        "id": "SUMsx0fa5c-c",
        "outputId": "588d51ba-8aa5-4c8f-d0b1-61292a302d7a"
      },
      "outputs": [
        {
          "data": {
            "text/html": [
              "<div>\n",
              "<style scoped>\n",
              "    .dataframe tbody tr th:only-of-type {\n",
              "        vertical-align: middle;\n",
              "    }\n",
              "\n",
              "    .dataframe tbody tr th {\n",
              "        vertical-align: top;\n",
              "    }\n",
              "\n",
              "    .dataframe thead th {\n",
              "        text-align: right;\n",
              "    }\n",
              "</style>\n",
              "<table border=\"1\" class=\"dataframe\">\n",
              "  <thead>\n",
              "    <tr style=\"text-align: right;\">\n",
              "      <th></th>\n",
              "      <th>no_of_adults</th>\n",
              "      <th>no_of_children</th>\n",
              "      <th>no_of_weekend_nights</th>\n",
              "      <th>no_of_week_nights</th>\n",
              "      <th>type_of_meal_plan</th>\n",
              "      <th>required_car_parking_space</th>\n",
              "      <th>room_type_reserved</th>\n",
              "      <th>lead_time</th>\n",
              "      <th>arrival_year</th>\n",
              "      <th>arrival_month</th>\n",
              "      <th>arrival_date</th>\n",
              "      <th>market_segment_type</th>\n",
              "      <th>repeated_guest</th>\n",
              "      <th>no_of_previous_cancellations</th>\n",
              "      <th>no_of_previous_bookings_not_canceled</th>\n",
              "      <th>avg_price_per_room</th>\n",
              "      <th>no_of_special_requests</th>\n",
              "      <th>booking_status</th>\n",
              "    </tr>\n",
              "    <tr>\n",
              "      <th>Booking_ID</th>\n",
              "      <th></th>\n",
              "      <th></th>\n",
              "      <th></th>\n",
              "      <th></th>\n",
              "      <th></th>\n",
              "      <th></th>\n",
              "      <th></th>\n",
              "      <th></th>\n",
              "      <th></th>\n",
              "      <th></th>\n",
              "      <th></th>\n",
              "      <th></th>\n",
              "      <th></th>\n",
              "      <th></th>\n",
              "      <th></th>\n",
              "      <th></th>\n",
              "      <th></th>\n",
              "      <th></th>\n",
              "    </tr>\n",
              "  </thead>\n",
              "  <tbody>\n",
              "    <tr>\n",
              "      <th>INN00001</th>\n",
              "      <td>2</td>\n",
              "      <td>0</td>\n",
              "      <td>1</td>\n",
              "      <td>2</td>\n",
              "      <td>Meal Plan 1</td>\n",
              "      <td>0</td>\n",
              "      <td>Room_Type 1</td>\n",
              "      <td>224</td>\n",
              "      <td>2017</td>\n",
              "      <td>10</td>\n",
              "      <td>2</td>\n",
              "      <td>Offline</td>\n",
              "      <td>0</td>\n",
              "      <td>0</td>\n",
              "      <td>0</td>\n",
              "      <td>65.00</td>\n",
              "      <td>0</td>\n",
              "      <td>Not_Canceled</td>\n",
              "    </tr>\n",
              "    <tr>\n",
              "      <th>INN00002</th>\n",
              "      <td>2</td>\n",
              "      <td>0</td>\n",
              "      <td>2</td>\n",
              "      <td>3</td>\n",
              "      <td>Not Selected</td>\n",
              "      <td>0</td>\n",
              "      <td>Room_Type 1</td>\n",
              "      <td>5</td>\n",
              "      <td>2018</td>\n",
              "      <td>11</td>\n",
              "      <td>6</td>\n",
              "      <td>Online</td>\n",
              "      <td>0</td>\n",
              "      <td>0</td>\n",
              "      <td>0</td>\n",
              "      <td>106.68</td>\n",
              "      <td>1</td>\n",
              "      <td>Not_Canceled</td>\n",
              "    </tr>\n",
              "    <tr>\n",
              "      <th>INN00003</th>\n",
              "      <td>1</td>\n",
              "      <td>0</td>\n",
              "      <td>2</td>\n",
              "      <td>1</td>\n",
              "      <td>Meal Plan 1</td>\n",
              "      <td>0</td>\n",
              "      <td>Room_Type 1</td>\n",
              "      <td>1</td>\n",
              "      <td>2018</td>\n",
              "      <td>2</td>\n",
              "      <td>28</td>\n",
              "      <td>Online</td>\n",
              "      <td>0</td>\n",
              "      <td>0</td>\n",
              "      <td>0</td>\n",
              "      <td>60.00</td>\n",
              "      <td>0</td>\n",
              "      <td>Canceled</td>\n",
              "    </tr>\n",
              "    <tr>\n",
              "      <th>INN00004</th>\n",
              "      <td>2</td>\n",
              "      <td>0</td>\n",
              "      <td>0</td>\n",
              "      <td>2</td>\n",
              "      <td>Meal Plan 1</td>\n",
              "      <td>0</td>\n",
              "      <td>Room_Type 1</td>\n",
              "      <td>211</td>\n",
              "      <td>2018</td>\n",
              "      <td>5</td>\n",
              "      <td>20</td>\n",
              "      <td>Online</td>\n",
              "      <td>0</td>\n",
              "      <td>0</td>\n",
              "      <td>0</td>\n",
              "      <td>100.00</td>\n",
              "      <td>0</td>\n",
              "      <td>Canceled</td>\n",
              "    </tr>\n",
              "    <tr>\n",
              "      <th>INN00005</th>\n",
              "      <td>2</td>\n",
              "      <td>0</td>\n",
              "      <td>1</td>\n",
              "      <td>1</td>\n",
              "      <td>Not Selected</td>\n",
              "      <td>0</td>\n",
              "      <td>Room_Type 1</td>\n",
              "      <td>48</td>\n",
              "      <td>2018</td>\n",
              "      <td>4</td>\n",
              "      <td>11</td>\n",
              "      <td>Online</td>\n",
              "      <td>0</td>\n",
              "      <td>0</td>\n",
              "      <td>0</td>\n",
              "      <td>94.50</td>\n",
              "      <td>0</td>\n",
              "      <td>Canceled</td>\n",
              "    </tr>\n",
              "    <tr>\n",
              "      <th>INN00006</th>\n",
              "      <td>2</td>\n",
              "      <td>0</td>\n",
              "      <td>0</td>\n",
              "      <td>2</td>\n",
              "      <td>Meal Plan 2</td>\n",
              "      <td>0</td>\n",
              "      <td>Room_Type 1</td>\n",
              "      <td>346</td>\n",
              "      <td>2018</td>\n",
              "      <td>9</td>\n",
              "      <td>13</td>\n",
              "      <td>Online</td>\n",
              "      <td>0</td>\n",
              "      <td>0</td>\n",
              "      <td>0</td>\n",
              "      <td>115.00</td>\n",
              "      <td>1</td>\n",
              "      <td>Canceled</td>\n",
              "    </tr>\n",
              "    <tr>\n",
              "      <th>INN00007</th>\n",
              "      <td>2</td>\n",
              "      <td>0</td>\n",
              "      <td>1</td>\n",
              "      <td>3</td>\n",
              "      <td>Meal Plan 1</td>\n",
              "      <td>0</td>\n",
              "      <td>Room_Type 1</td>\n",
              "      <td>34</td>\n",
              "      <td>2017</td>\n",
              "      <td>10</td>\n",
              "      <td>15</td>\n",
              "      <td>Online</td>\n",
              "      <td>0</td>\n",
              "      <td>0</td>\n",
              "      <td>0</td>\n",
              "      <td>107.55</td>\n",
              "      <td>1</td>\n",
              "      <td>Not_Canceled</td>\n",
              "    </tr>\n",
              "    <tr>\n",
              "      <th>INN00008</th>\n",
              "      <td>2</td>\n",
              "      <td>0</td>\n",
              "      <td>1</td>\n",
              "      <td>3</td>\n",
              "      <td>Meal Plan 1</td>\n",
              "      <td>0</td>\n",
              "      <td>Room_Type 4</td>\n",
              "      <td>83</td>\n",
              "      <td>2018</td>\n",
              "      <td>12</td>\n",
              "      <td>26</td>\n",
              "      <td>Online</td>\n",
              "      <td>0</td>\n",
              "      <td>0</td>\n",
              "      <td>0</td>\n",
              "      <td>105.61</td>\n",
              "      <td>1</td>\n",
              "      <td>Not_Canceled</td>\n",
              "    </tr>\n",
              "    <tr>\n",
              "      <th>INN00009</th>\n",
              "      <td>3</td>\n",
              "      <td>0</td>\n",
              "      <td>0</td>\n",
              "      <td>4</td>\n",
              "      <td>Meal Plan 1</td>\n",
              "      <td>0</td>\n",
              "      <td>Room_Type 1</td>\n",
              "      <td>121</td>\n",
              "      <td>2018</td>\n",
              "      <td>7</td>\n",
              "      <td>6</td>\n",
              "      <td>Offline</td>\n",
              "      <td>0</td>\n",
              "      <td>0</td>\n",
              "      <td>0</td>\n",
              "      <td>96.90</td>\n",
              "      <td>1</td>\n",
              "      <td>Not_Canceled</td>\n",
              "    </tr>\n",
              "    <tr>\n",
              "      <th>INN00010</th>\n",
              "      <td>2</td>\n",
              "      <td>0</td>\n",
              "      <td>0</td>\n",
              "      <td>5</td>\n",
              "      <td>Meal Plan 1</td>\n",
              "      <td>0</td>\n",
              "      <td>Room_Type 4</td>\n",
              "      <td>44</td>\n",
              "      <td>2018</td>\n",
              "      <td>10</td>\n",
              "      <td>18</td>\n",
              "      <td>Online</td>\n",
              "      <td>0</td>\n",
              "      <td>0</td>\n",
              "      <td>0</td>\n",
              "      <td>133.44</td>\n",
              "      <td>3</td>\n",
              "      <td>Not_Canceled</td>\n",
              "    </tr>\n",
              "  </tbody>\n",
              "</table>\n",
              "</div>"
            ],
            "text/plain": [
              "            no_of_adults  no_of_children  no_of_weekend_nights  \\\n",
              "Booking_ID                                                       \n",
              "INN00001               2               0                     1   \n",
              "INN00002               2               0                     2   \n",
              "INN00003               1               0                     2   \n",
              "INN00004               2               0                     0   \n",
              "INN00005               2               0                     1   \n",
              "INN00006               2               0                     0   \n",
              "INN00007               2               0                     1   \n",
              "INN00008               2               0                     1   \n",
              "INN00009               3               0                     0   \n",
              "INN00010               2               0                     0   \n",
              "\n",
              "            no_of_week_nights type_of_meal_plan  required_car_parking_space  \\\n",
              "Booking_ID                                                                    \n",
              "INN00001                    2       Meal Plan 1                           0   \n",
              "INN00002                    3      Not Selected                           0   \n",
              "INN00003                    1       Meal Plan 1                           0   \n",
              "INN00004                    2       Meal Plan 1                           0   \n",
              "INN00005                    1      Not Selected                           0   \n",
              "INN00006                    2       Meal Plan 2                           0   \n",
              "INN00007                    3       Meal Plan 1                           0   \n",
              "INN00008                    3       Meal Plan 1                           0   \n",
              "INN00009                    4       Meal Plan 1                           0   \n",
              "INN00010                    5       Meal Plan 1                           0   \n",
              "\n",
              "           room_type_reserved  lead_time  arrival_year  arrival_month  \\\n",
              "Booking_ID                                                              \n",
              "INN00001          Room_Type 1        224          2017             10   \n",
              "INN00002          Room_Type 1          5          2018             11   \n",
              "INN00003          Room_Type 1          1          2018              2   \n",
              "INN00004          Room_Type 1        211          2018              5   \n",
              "INN00005          Room_Type 1         48          2018              4   \n",
              "INN00006          Room_Type 1        346          2018              9   \n",
              "INN00007          Room_Type 1         34          2017             10   \n",
              "INN00008          Room_Type 4         83          2018             12   \n",
              "INN00009          Room_Type 1        121          2018              7   \n",
              "INN00010          Room_Type 4         44          2018             10   \n",
              "\n",
              "            arrival_date market_segment_type  repeated_guest  \\\n",
              "Booking_ID                                                     \n",
              "INN00001               2             Offline               0   \n",
              "INN00002               6              Online               0   \n",
              "INN00003              28              Online               0   \n",
              "INN00004              20              Online               0   \n",
              "INN00005              11              Online               0   \n",
              "INN00006              13              Online               0   \n",
              "INN00007              15              Online               0   \n",
              "INN00008              26              Online               0   \n",
              "INN00009               6             Offline               0   \n",
              "INN00010              18              Online               0   \n",
              "\n",
              "            no_of_previous_cancellations  \\\n",
              "Booking_ID                                 \n",
              "INN00001                               0   \n",
              "INN00002                               0   \n",
              "INN00003                               0   \n",
              "INN00004                               0   \n",
              "INN00005                               0   \n",
              "INN00006                               0   \n",
              "INN00007                               0   \n",
              "INN00008                               0   \n",
              "INN00009                               0   \n",
              "INN00010                               0   \n",
              "\n",
              "            no_of_previous_bookings_not_canceled  avg_price_per_room  \\\n",
              "Booking_ID                                                             \n",
              "INN00001                                       0               65.00   \n",
              "INN00002                                       0              106.68   \n",
              "INN00003                                       0               60.00   \n",
              "INN00004                                       0              100.00   \n",
              "INN00005                                       0               94.50   \n",
              "INN00006                                       0              115.00   \n",
              "INN00007                                       0              107.55   \n",
              "INN00008                                       0              105.61   \n",
              "INN00009                                       0               96.90   \n",
              "INN00010                                       0              133.44   \n",
              "\n",
              "            no_of_special_requests booking_status  \n",
              "Booking_ID                                         \n",
              "INN00001                         0   Not_Canceled  \n",
              "INN00002                         1   Not_Canceled  \n",
              "INN00003                         0       Canceled  \n",
              "INN00004                         0       Canceled  \n",
              "INN00005                         0       Canceled  \n",
              "INN00006                         1       Canceled  \n",
              "INN00007                         1   Not_Canceled  \n",
              "INN00008                         1   Not_Canceled  \n",
              "INN00009                         1   Not_Canceled  \n",
              "INN00010                         3   Not_Canceled  "
            ]
          },
          "execution_count": 82,
          "metadata": {},
          "output_type": "execute_result"
        }
      ],
      "source": [
        "# Reading Data\n",
        "df = pd.read_csv(\"Hotel Reservations.csv\", index_col = \"Booking_ID\")\n",
        "df.head(10)"
      ]
    },
    {
      "cell_type": "code",
      "execution_count": 83,
      "metadata": {
        "id": "NJZjCduks3DN"
      },
      "outputs": [
        {
          "data": {
            "text/plain": [
              "['no_of_adults',\n",
              " 'no_of_children',\n",
              " 'no_of_weekend_nights',\n",
              " 'no_of_week_nights',\n",
              " 'lead_time',\n",
              " 'arrival_month',\n",
              " 'arrival_date',\n",
              " 'no_of_previous_cancellations',\n",
              " 'no_of_previous_bookings_not_canceled',\n",
              " 'avg_price_per_room',\n",
              " 'no_of_special_requests']"
            ]
          },
          "execution_count": 83,
          "metadata": {},
          "output_type": "execute_result"
        }
      ],
      "source": [
        "#Seperating Categorical and Numerical Columns and Storing the Target Column Name\n",
        "label = 'booking_status'\n",
        "categorical_columns = df.drop(label, axis = 1).select_dtypes(\"object\").columns.to_list()\n",
        "numerical_columns = df.drop(label, axis=1).select_dtypes([\"float\", \"int\"]).columns.to_list()\n",
        "\n",
        "binary_columns = df[numerical_columns].loc[:, df.nunique() == 2].columns.to_list()\n",
        "non_binary_columns = df[numerical_columns].drop(binary_columns, axis = 1).columns.to_list()\n",
        "non_binary_columns"
      ]
    },
    {
      "cell_type": "code",
      "execution_count": 84,
      "metadata": {
        "colab": {
          "base_uri": "https://localhost:8080/"
        },
        "id": "D7N5QQ0L8BgS",
        "outputId": "94fd73ee-f9da-478d-9474-630cc9b55bcf"
      },
      "outputs": [
        {
          "data": {
            "text/plain": [
              "Booking_ID\n",
              "INN00001    0\n",
              "INN00002    0\n",
              "INN00003    1\n",
              "INN00004    1\n",
              "INN00005    1\n",
              "           ..\n",
              "INN36271    0\n",
              "INN36272    1\n",
              "INN36273    0\n",
              "INN36274    1\n",
              "INN36275    0\n",
              "Name: booking_status, Length: 36275, dtype: int64"
            ]
          },
          "execution_count": 84,
          "metadata": {},
          "output_type": "execute_result"
        }
      ],
      "source": [
        "#Encoding the Target Column\n",
        "df[label] = df[label].map({\"Canceled\" : 1, \"Not_Canceled\" : 0})\n",
        "df[label]"
      ]
    },
    {
      "cell_type": "code",
      "execution_count": 85,
      "metadata": {},
      "outputs": [],
      "source": [
        "## Removing Zero Values from the Price Column\n",
        "df.loc[df[\"avg_price_per_room\"] == 0, \"avg_price_per_room\"] = np.nan"
      ]
    },
    {
      "cell_type": "code",
      "execution_count": 86,
      "metadata": {},
      "outputs": [],
      "source": [
        "# Replacing the Removed Values\n",
        "imputer = KNNImputer()\n",
        "df[\"avg_price_per_room\"] = imputer.fit_transform(df[[\"avg_price_per_room\"]])"
      ]
    },
    {
      "cell_type": "code",
      "execution_count": 87,
      "metadata": {},
      "outputs": [
        {
          "data": {
            "text/html": [
              "<div>\n",
              "<style scoped>\n",
              "    .dataframe tbody tr th:only-of-type {\n",
              "        vertical-align: middle;\n",
              "    }\n",
              "\n",
              "    .dataframe tbody tr th {\n",
              "        vertical-align: top;\n",
              "    }\n",
              "\n",
              "    .dataframe thead th {\n",
              "        text-align: right;\n",
              "    }\n",
              "</style>\n",
              "<table border=\"1\" class=\"dataframe\">\n",
              "  <thead>\n",
              "    <tr style=\"text-align: right;\">\n",
              "      <th></th>\n",
              "      <th>no_of_adults</th>\n",
              "      <th>no_of_children</th>\n",
              "      <th>no_of_weekend_nights</th>\n",
              "      <th>no_of_week_nights</th>\n",
              "      <th>type_of_meal_plan</th>\n",
              "      <th>required_car_parking_space</th>\n",
              "      <th>room_type_reserved</th>\n",
              "      <th>lead_time</th>\n",
              "      <th>arrival_year</th>\n",
              "      <th>arrival_month</th>\n",
              "      <th>arrival_date</th>\n",
              "      <th>market_segment_type</th>\n",
              "      <th>repeated_guest</th>\n",
              "      <th>no_of_previous_cancellations</th>\n",
              "      <th>no_of_previous_bookings_not_canceled</th>\n",
              "      <th>avg_price_per_room</th>\n",
              "      <th>no_of_special_requests</th>\n",
              "      <th>booking_status</th>\n",
              "    </tr>\n",
              "    <tr>\n",
              "      <th>Booking_ID</th>\n",
              "      <th></th>\n",
              "      <th></th>\n",
              "      <th></th>\n",
              "      <th></th>\n",
              "      <th></th>\n",
              "      <th></th>\n",
              "      <th></th>\n",
              "      <th></th>\n",
              "      <th></th>\n",
              "      <th></th>\n",
              "      <th></th>\n",
              "      <th></th>\n",
              "      <th></th>\n",
              "      <th></th>\n",
              "      <th></th>\n",
              "      <th></th>\n",
              "      <th></th>\n",
              "      <th></th>\n",
              "    </tr>\n",
              "  </thead>\n",
              "  <tbody>\n",
              "  </tbody>\n",
              "</table>\n",
              "</div>"
            ],
            "text/plain": [
              "Empty DataFrame\n",
              "Columns: [no_of_adults, no_of_children, no_of_weekend_nights, no_of_week_nights, type_of_meal_plan, required_car_parking_space, room_type_reserved, lead_time, arrival_year, arrival_month, arrival_date, market_segment_type, repeated_guest, no_of_previous_cancellations, no_of_previous_bookings_not_canceled, avg_price_per_room, no_of_special_requests, booking_status]\n",
              "Index: []"
            ]
          },
          "execution_count": 87,
          "metadata": {},
          "output_type": "execute_result"
        }
      ],
      "source": [
        "#checking if there is are days that don't match the month\n",
        "month_group_2 = [4, 6, 9, 11]\n",
        "month_group_3 = [2]\n",
        "df[(df[\"arrival_month\"].isin(month_group_3)) & (df[\"arrival_date\"] >= 30)]\n"
      ]
    },
    {
      "cell_type": "markdown",
      "metadata": {
        "id": "RxTYke9_ZI6j"
      },
      "source": [
        "# Feature Engineering"
      ]
    },
    {
      "cell_type": "code",
      "execution_count": 88,
      "metadata": {
        "id": "Bx9ZQ-bwZGxW"
      },
      "outputs": [],
      "source": [
        "#Total Number of Members for each Group\n",
        "df[\"no_of_members\"] = df[\"no_of_adults\"] + df[\"no_of_children\"]\n",
        "#Total Number of Nights They will Stay\n",
        "df[\"no_of_nights\"] = df[\"no_of_weekend_nights\"] + df[\"no_of_week_nights\"]"
      ]
    },
    {
      "cell_type": "markdown",
      "metadata": {
        "id": "FIqlhNeN3EYy"
      },
      "source": [
        "# Pipeline"
      ]
    },
    {
      "cell_type": "code",
      "execution_count": 89,
      "metadata": {
        "id": "cijNYnh4obid"
      },
      "outputs": [],
      "source": [
        "#scaler = PowerTransformer(method = \"box-cox\", standardize = False)\n",
        "X = df.drop(label, axis = 1)\n",
        "y = df[label]"
      ]
    },
    {
      "cell_type": "code",
      "execution_count": 90,
      "metadata": {
        "id": "XktdtUUU97qj"
      },
      "outputs": [],
      "source": [
        "#Classification Models\n",
        "models = [\n",
        "    ('Logistic Regression', LogisticRegression(random_state = 42)),\n",
        "    ('DTC', DecisionTreeClassifier(random_state = 42)),\n",
        "    ('KNC', KNeighborsClassifier()),\n",
        "    ('RFC', RandomForestClassifier(random_state = 42)),\n",
        "    (\"XGC\", XGBClassifier(random_state = 42))\n",
        "]"
      ]
    },
    {
      "cell_type": "code",
      "execution_count": 91,
      "metadata": {
        "id": "69pojfj5f-KI"
      },
      "outputs": [],
      "source": [
        "#Feature Selection Object\n",
        "RFE_selector = RFE(XGBRegressor(), n_features_to_select=15)"
      ]
    },
    {
      "cell_type": "code",
      "execution_count": 92,
      "metadata": {
        "id": "LLTYJYgvgE36"
      },
      "outputs": [],
      "source": [
        "#Column Transformation Object\n",
        "preprocessor = ColumnTransformer(transformers = [\n",
        "    (\"nbin\", PowerTransformer(), non_binary_columns),\n",
        "    (\"bin\", RobustScaler(), binary_columns),\n",
        "    (\"cat\", OneHotEncoder(sparse = False, drop = \"first\"), categorical_columns),\n",
        "])"
      ]
    },
    {
      "cell_type": "code",
      "execution_count": 93,
      "metadata": {
        "id": "RaFh2Y6AgHVD"
      },
      "outputs": [],
      "source": [
        "# Classification Scoring Methods for Cross Validation\n",
        "scoring = {\n",
        "    'accuracy': make_scorer(accuracy_score),\n",
        "    'precision': make_scorer(precision_score),\n",
        "    'recall': make_scorer(recall_score),\n",
        "    'f1': make_scorer(f1_score),\n",
        "    'roc_auc': make_scorer(roc_auc_score)\n",
        "}"
      ]
    },
    {
      "cell_type": "code",
      "execution_count": 96,
      "metadata": {
        "colab": {
          "base_uri": "https://localhost:8080/"
        },
        "id": "xJFApP9D3I7n",
        "outputId": "30c0dc89-9974-4557-aa83-46199f60690b"
      },
      "outputs": [
        {
          "name": "stdout",
          "output_type": "stream",
          "text": [
            "test : 0.7785527222605101\n",
            "train: 0.7811784975878704\n",
            "**************************************************\n",
            "test : 0.8634321157822191\n",
            "train: 0.9932460372157135\n",
            "**************************************************\n",
            "test : 0.848380427291523\n",
            "train: 0.8939145416953824\n",
            "**************************************************\n",
            "test : 0.8943073742246727\n",
            "train: 0.9931082012405238\n",
            "**************************************************\n",
            "test : 0.8828669882839421\n",
            "train: 0.9073673328738799\n",
            "**************************************************\n"
          ]
        }
      ],
      "source": [
        "# looping Each Model to choose the best \n",
        "for model_name, model in models:\n",
        "  steps = []\n",
        "  #Oversampling Step\n",
        "  steps.append((\"smote\", SMOTENC(categorical_features=categorical_columns, random_state=42)))\n",
        "  #Column Transformation Step\n",
        "  steps.append((\"preprocessor\", preprocessor))\n",
        "  #Feature Selection Step\n",
        "  steps.append((\"RFE_Selector\", RFE_selector))\n",
        "  #Model Training Step\n",
        "  steps.append((model_name, model))\n",
        "  #Defining Pipeline\n",
        "  pipeline = Pipeline(steps = steps)\n",
        "  #Evaluation Using Cross Validation\n",
        "  cv_results = cross_validate(pipeline, X, y, scoring=scoring, cv=5, return_train_score=True)\n",
        "\n",
        "  #Evaluating Based on Accuracy\n",
        "  print(\"test :\", cv_results['test_accuracy'].mean())\n",
        "  print(\"train:\", cv_results['train_accuracy'].mean())\n",
        "  print('*' * 50)"
      ]
    },
    {
      "cell_type": "markdown",
      "metadata": {
        "id": "w2__5579zEIx"
      },
      "source": [
        "# Hyperparameter Tuning"
      ]
    },
    {
      "cell_type": "code",
      "execution_count": 104,
      "metadata": {
        "id": "VYjilQlpzIX_"
      },
      "outputs": [],
      "source": [
        "# Define your parameter grid for GridSearchCV\n",
        "param_grid = {\n",
        "    'XGC__n_estimators': [50, 100, 200],\n",
        "    'XGC__max_depth': [3, 4, 5],\n",
        "    'XGC__learning_rate': [0.1, 0.2, 0.3],\n",
        "    \"XGC__random_state\" : [42]\n",
        "}"
      ]
    },
    {
      "cell_type": "code",
      "execution_count": 101,
      "metadata": {
        "colab": {
          "base_uri": "https://localhost:8080/"
        },
        "id": "IKaZB8On083E",
        "outputId": "2263ae34-7e05-4571-ccd0-d033d0d93717"
      },
      "outputs": [
        {
          "name": "stdout",
          "output_type": "stream",
          "text": [
            "test : 0.8828669882839421\n",
            "train: 0.9073673328738799\n",
            "**************************************************\n"
          ]
        }
      ],
      "source": [
        "#XGBClassifier Pipeline\n",
        "steps = []\n",
        "steps.append((\"smote\", SMOTENC(categorical_features= categorical_columns, random_state = 42)))\n",
        "steps.append((\"preprocessor\", preprocessor))\n",
        "steps.append((\"RFE_selector\", RFE_selector))\n",
        "steps.append((\"XGC\", XGBClassifier(random_state=42)))\n",
        "\n",
        "pipeline = Pipeline(steps = steps)\n",
        "cv_results = cross_validate(pipeline, X, y, scoring=scoring, cv=5, return_train_score=True)\n",
        "print(\"test :\", cv_results['test_accuracy'].mean())\n",
        "print(\"train:\", cv_results['train_accuracy'].mean())\n",
        "print('*' * 50)"
      ]
    },
    {
      "cell_type": "code",
      "execution_count": 106,
      "metadata": {
        "colab": {
          "base_uri": "https://localhost:8080/"
        },
        "id": "__WrNl8m1lMJ",
        "outputId": "9a44ce90-86bd-415c-c5ad-c8412a5db759"
      },
      "outputs": [
        {
          "name": "stdout",
          "output_type": "stream",
          "text": [
            "Best Parameters: {'XGC__learning_rate': 0.3, 'XGC__max_depth': 5, 'XGC__n_estimators': 200, 'XGC__random_state': 42}\n",
            "Best Score: 0.8839972432804963\n"
          ]
        }
      ],
      "source": [
        "#Tuning the Hyperparameters using GridSearchCV\n",
        "grid_search = GridSearchCV(estimator = pipeline, param_grid = param_grid, scoring=scoring[\"accuracy\"], n_jobs=-1, return_train_score=True)\n",
        "\n",
        "grid_search.fit(X, y)\n",
        "\n",
        "best_params = grid_search.best_params_\n",
        "best_score = grid_search.best_score_\n",
        "\n",
        "print(\"Best Parameters:\", best_params)\n",
        "print(\"Best Score:\", best_score)"
      ]
    },
    {
      "cell_type": "code",
      "execution_count": 109,
      "metadata": {},
      "outputs": [
        {
          "data": {
            "text/html": [
              "<style>#sk-container-id-2 {color: black;}#sk-container-id-2 pre{padding: 0;}#sk-container-id-2 div.sk-toggleable {background-color: white;}#sk-container-id-2 label.sk-toggleable__label {cursor: pointer;display: block;width: 100%;margin-bottom: 0;padding: 0.3em;box-sizing: border-box;text-align: center;}#sk-container-id-2 label.sk-toggleable__label-arrow:before {content: \"▸\";float: left;margin-right: 0.25em;color: #696969;}#sk-container-id-2 label.sk-toggleable__label-arrow:hover:before {color: black;}#sk-container-id-2 div.sk-estimator:hover label.sk-toggleable__label-arrow:before {color: black;}#sk-container-id-2 div.sk-toggleable__content {max-height: 0;max-width: 0;overflow: hidden;text-align: left;background-color: #f0f8ff;}#sk-container-id-2 div.sk-toggleable__content pre {margin: 0.2em;color: black;border-radius: 0.25em;background-color: #f0f8ff;}#sk-container-id-2 input.sk-toggleable__control:checked~div.sk-toggleable__content {max-height: 200px;max-width: 100%;overflow: auto;}#sk-container-id-2 input.sk-toggleable__control:checked~label.sk-toggleable__label-arrow:before {content: \"▾\";}#sk-container-id-2 div.sk-estimator input.sk-toggleable__control:checked~label.sk-toggleable__label {background-color: #d4ebff;}#sk-container-id-2 div.sk-label input.sk-toggleable__control:checked~label.sk-toggleable__label {background-color: #d4ebff;}#sk-container-id-2 input.sk-hidden--visually {border: 0;clip: rect(1px 1px 1px 1px);clip: rect(1px, 1px, 1px, 1px);height: 1px;margin: -1px;overflow: hidden;padding: 0;position: absolute;width: 1px;}#sk-container-id-2 div.sk-estimator {font-family: monospace;background-color: #f0f8ff;border: 1px dotted black;border-radius: 0.25em;box-sizing: border-box;margin-bottom: 0.5em;}#sk-container-id-2 div.sk-estimator:hover {background-color: #d4ebff;}#sk-container-id-2 div.sk-parallel-item::after {content: \"\";width: 100%;border-bottom: 1px solid gray;flex-grow: 1;}#sk-container-id-2 div.sk-label:hover label.sk-toggleable__label {background-color: #d4ebff;}#sk-container-id-2 div.sk-serial::before {content: \"\";position: absolute;border-left: 1px solid gray;box-sizing: border-box;top: 0;bottom: 0;left: 50%;z-index: 0;}#sk-container-id-2 div.sk-serial {display: flex;flex-direction: column;align-items: center;background-color: white;padding-right: 0.2em;padding-left: 0.2em;position: relative;}#sk-container-id-2 div.sk-item {position: relative;z-index: 1;}#sk-container-id-2 div.sk-parallel {display: flex;align-items: stretch;justify-content: center;background-color: white;position: relative;}#sk-container-id-2 div.sk-item::before, #sk-container-id-2 div.sk-parallel-item::before {content: \"\";position: absolute;border-left: 1px solid gray;box-sizing: border-box;top: 0;bottom: 0;left: 50%;z-index: -1;}#sk-container-id-2 div.sk-parallel-item {display: flex;flex-direction: column;z-index: 1;position: relative;background-color: white;}#sk-container-id-2 div.sk-parallel-item:first-child::after {align-self: flex-end;width: 50%;}#sk-container-id-2 div.sk-parallel-item:last-child::after {align-self: flex-start;width: 50%;}#sk-container-id-2 div.sk-parallel-item:only-child::after {width: 0;}#sk-container-id-2 div.sk-dashed-wrapped {border: 1px dashed gray;margin: 0 0.4em 0.5em 0.4em;box-sizing: border-box;padding-bottom: 0.4em;background-color: white;}#sk-container-id-2 div.sk-label label {font-family: monospace;font-weight: bold;display: inline-block;line-height: 1.2em;}#sk-container-id-2 div.sk-label-container {text-align: center;}#sk-container-id-2 div.sk-container {/* jupyter's `normalize.less` sets `[hidden] { display: none; }` but bootstrap.min.css set `[hidden] { display: none !important; }` so we also need the `!important` here to be able to override the default hidden behavior on the sphinx rendered scikit-learn.org. See: https://github.com/scikit-learn/scikit-learn/issues/21755 */display: inline-block !important;position: relative;}#sk-container-id-2 div.sk-text-repr-fallback {display: none;}</style><div id=\"sk-container-id-2\" class=\"sk-top-container\"><div class=\"sk-text-repr-fallback\"><pre>Pipeline(steps=[(&#x27;preprocessor&#x27;,\n",
              "                 ColumnTransformer(transformers=[(&#x27;nbin&#x27;, PowerTransformer(),\n",
              "                                                  [&#x27;no_of_adults&#x27;,\n",
              "                                                   &#x27;no_of_children&#x27;,\n",
              "                                                   &#x27;no_of_weekend_nights&#x27;,\n",
              "                                                   &#x27;no_of_week_nights&#x27;,\n",
              "                                                   &#x27;lead_time&#x27;, &#x27;arrival_month&#x27;,\n",
              "                                                   &#x27;arrival_date&#x27;,\n",
              "                                                   &#x27;no_of_previous_cancellations&#x27;,\n",
              "                                                   &#x27;no_of_previous_bookings_not_canceled&#x27;,\n",
              "                                                   &#x27;avg_price_per_room&#x27;,\n",
              "                                                   &#x27;no_of_special_requests&#x27;]),\n",
              "                                                 (&#x27;bin&#x27;, RobustScaler(),...\n",
              "                               feature_types=None, gamma=None, grow_policy=None,\n",
              "                               importance_type=None,\n",
              "                               interaction_constraints=None, learning_rate=0.3,\n",
              "                               max_bin=None, max_cat_threshold=None,\n",
              "                               max_cat_to_onehot=None, max_delta_step=None,\n",
              "                               max_depth=5, max_leaves=None,\n",
              "                               min_child_weight=None, missing=nan,\n",
              "                               monotone_constraints=None, multi_strategy=None,\n",
              "                               n_estimators=200, n_jobs=None,\n",
              "                               num_parallel_tree=None, random_state=42, ...))])</pre><b>In a Jupyter environment, please rerun this cell to show the HTML representation or trust the notebook. <br />On GitHub, the HTML representation is unable to render, please try loading this page with nbviewer.org.</b></div><div class=\"sk-container\" hidden><div class=\"sk-item sk-dashed-wrapped\"><div class=\"sk-label-container\"><div class=\"sk-label sk-toggleable\"><input class=\"sk-toggleable__control sk-hidden--visually\" id=\"sk-estimator-id-14\" type=\"checkbox\" ><label for=\"sk-estimator-id-14\" class=\"sk-toggleable__label sk-toggleable__label-arrow\">Pipeline</label><div class=\"sk-toggleable__content\"><pre>Pipeline(steps=[(&#x27;preprocessor&#x27;,\n",
              "                 ColumnTransformer(transformers=[(&#x27;nbin&#x27;, PowerTransformer(),\n",
              "                                                  [&#x27;no_of_adults&#x27;,\n",
              "                                                   &#x27;no_of_children&#x27;,\n",
              "                                                   &#x27;no_of_weekend_nights&#x27;,\n",
              "                                                   &#x27;no_of_week_nights&#x27;,\n",
              "                                                   &#x27;lead_time&#x27;, &#x27;arrival_month&#x27;,\n",
              "                                                   &#x27;arrival_date&#x27;,\n",
              "                                                   &#x27;no_of_previous_cancellations&#x27;,\n",
              "                                                   &#x27;no_of_previous_bookings_not_canceled&#x27;,\n",
              "                                                   &#x27;avg_price_per_room&#x27;,\n",
              "                                                   &#x27;no_of_special_requests&#x27;]),\n",
              "                                                 (&#x27;bin&#x27;, RobustScaler(),...\n",
              "                               feature_types=None, gamma=None, grow_policy=None,\n",
              "                               importance_type=None,\n",
              "                               interaction_constraints=None, learning_rate=0.3,\n",
              "                               max_bin=None, max_cat_threshold=None,\n",
              "                               max_cat_to_onehot=None, max_delta_step=None,\n",
              "                               max_depth=5, max_leaves=None,\n",
              "                               min_child_weight=None, missing=nan,\n",
              "                               monotone_constraints=None, multi_strategy=None,\n",
              "                               n_estimators=200, n_jobs=None,\n",
              "                               num_parallel_tree=None, random_state=42, ...))])</pre></div></div></div><div class=\"sk-serial\"><div class=\"sk-item sk-dashed-wrapped\"><div class=\"sk-label-container\"><div class=\"sk-label sk-toggleable\"><input class=\"sk-toggleable__control sk-hidden--visually\" id=\"sk-estimator-id-15\" type=\"checkbox\" ><label for=\"sk-estimator-id-15\" class=\"sk-toggleable__label sk-toggleable__label-arrow\">preprocessor: ColumnTransformer</label><div class=\"sk-toggleable__content\"><pre>ColumnTransformer(transformers=[(&#x27;nbin&#x27;, PowerTransformer(),\n",
              "                                 [&#x27;no_of_adults&#x27;, &#x27;no_of_children&#x27;,\n",
              "                                  &#x27;no_of_weekend_nights&#x27;, &#x27;no_of_week_nights&#x27;,\n",
              "                                  &#x27;lead_time&#x27;, &#x27;arrival_month&#x27;, &#x27;arrival_date&#x27;,\n",
              "                                  &#x27;no_of_previous_cancellations&#x27;,\n",
              "                                  &#x27;no_of_previous_bookings_not_canceled&#x27;,\n",
              "                                  &#x27;avg_price_per_room&#x27;,\n",
              "                                  &#x27;no_of_special_requests&#x27;]),\n",
              "                                (&#x27;bin&#x27;, RobustScaler(),\n",
              "                                 [&#x27;required_car_parking_space&#x27;, &#x27;arrival_year&#x27;,\n",
              "                                  &#x27;repeated_guest&#x27;]),\n",
              "                                (&#x27;cat&#x27;,\n",
              "                                 OneHotEncoder(drop=&#x27;first&#x27;, sparse=False),\n",
              "                                 [&#x27;type_of_meal_plan&#x27;, &#x27;room_type_reserved&#x27;,\n",
              "                                  &#x27;market_segment_type&#x27;])])</pre></div></div></div><div class=\"sk-parallel\"><div class=\"sk-parallel-item\"><div class=\"sk-item\"><div class=\"sk-label-container\"><div class=\"sk-label sk-toggleable\"><input class=\"sk-toggleable__control sk-hidden--visually\" id=\"sk-estimator-id-16\" type=\"checkbox\" ><label for=\"sk-estimator-id-16\" class=\"sk-toggleable__label sk-toggleable__label-arrow\">nbin</label><div class=\"sk-toggleable__content\"><pre>[&#x27;no_of_adults&#x27;, &#x27;no_of_children&#x27;, &#x27;no_of_weekend_nights&#x27;, &#x27;no_of_week_nights&#x27;, &#x27;lead_time&#x27;, &#x27;arrival_month&#x27;, &#x27;arrival_date&#x27;, &#x27;no_of_previous_cancellations&#x27;, &#x27;no_of_previous_bookings_not_canceled&#x27;, &#x27;avg_price_per_room&#x27;, &#x27;no_of_special_requests&#x27;]</pre></div></div></div><div class=\"sk-serial\"><div class=\"sk-item\"><div class=\"sk-estimator sk-toggleable\"><input class=\"sk-toggleable__control sk-hidden--visually\" id=\"sk-estimator-id-17\" type=\"checkbox\" ><label for=\"sk-estimator-id-17\" class=\"sk-toggleable__label sk-toggleable__label-arrow\">PowerTransformer</label><div class=\"sk-toggleable__content\"><pre>PowerTransformer()</pre></div></div></div></div></div></div><div class=\"sk-parallel-item\"><div class=\"sk-item\"><div class=\"sk-label-container\"><div class=\"sk-label sk-toggleable\"><input class=\"sk-toggleable__control sk-hidden--visually\" id=\"sk-estimator-id-18\" type=\"checkbox\" ><label for=\"sk-estimator-id-18\" class=\"sk-toggleable__label sk-toggleable__label-arrow\">bin</label><div class=\"sk-toggleable__content\"><pre>[&#x27;required_car_parking_space&#x27;, &#x27;arrival_year&#x27;, &#x27;repeated_guest&#x27;]</pre></div></div></div><div class=\"sk-serial\"><div class=\"sk-item\"><div class=\"sk-estimator sk-toggleable\"><input class=\"sk-toggleable__control sk-hidden--visually\" id=\"sk-estimator-id-19\" type=\"checkbox\" ><label for=\"sk-estimator-id-19\" class=\"sk-toggleable__label sk-toggleable__label-arrow\">RobustScaler</label><div class=\"sk-toggleable__content\"><pre>RobustScaler()</pre></div></div></div></div></div></div><div class=\"sk-parallel-item\"><div class=\"sk-item\"><div class=\"sk-label-container\"><div class=\"sk-label sk-toggleable\"><input class=\"sk-toggleable__control sk-hidden--visually\" id=\"sk-estimator-id-20\" type=\"checkbox\" ><label for=\"sk-estimator-id-20\" class=\"sk-toggleable__label sk-toggleable__label-arrow\">cat</label><div class=\"sk-toggleable__content\"><pre>[&#x27;type_of_meal_plan&#x27;, &#x27;room_type_reserved&#x27;, &#x27;market_segment_type&#x27;]</pre></div></div></div><div class=\"sk-serial\"><div class=\"sk-item\"><div class=\"sk-estimator sk-toggleable\"><input class=\"sk-toggleable__control sk-hidden--visually\" id=\"sk-estimator-id-21\" type=\"checkbox\" ><label for=\"sk-estimator-id-21\" class=\"sk-toggleable__label sk-toggleable__label-arrow\">OneHotEncoder</label><div class=\"sk-toggleable__content\"><pre>OneHotEncoder(drop=&#x27;first&#x27;, sparse=False)</pre></div></div></div></div></div></div></div></div><div class=\"sk-item\"><div class=\"sk-estimator sk-toggleable\"><input class=\"sk-toggleable__control sk-hidden--visually\" id=\"sk-estimator-id-22\" type=\"checkbox\" ><label for=\"sk-estimator-id-22\" class=\"sk-toggleable__label sk-toggleable__label-arrow\">SMOTE</label><div class=\"sk-toggleable__content\"><pre>SMOTE()</pre></div></div></div><div class=\"sk-item sk-dashed-wrapped\"><div class=\"sk-label-container\"><div class=\"sk-label sk-toggleable\"><input class=\"sk-toggleable__control sk-hidden--visually\" id=\"sk-estimator-id-23\" type=\"checkbox\" ><label for=\"sk-estimator-id-23\" class=\"sk-toggleable__label sk-toggleable__label-arrow\">RFE_selector: RFE</label><div class=\"sk-toggleable__content\"><pre>RFE(estimator=XGBRegressor(base_score=None, booster=None, callbacks=None,\n",
              "                           colsample_bylevel=None, colsample_bynode=None,\n",
              "                           colsample_bytree=None, device=None,\n",
              "                           early_stopping_rounds=None, enable_categorical=False,\n",
              "                           eval_metric=None, feature_types=None, gamma=None,\n",
              "                           grow_policy=None, importance_type=None,\n",
              "                           interaction_constraints=None, learning_rate=None,\n",
              "                           max_bin=None, max_cat_threshold=None,\n",
              "                           max_cat_to_onehot=None, max_delta_step=None,\n",
              "                           max_depth=None, max_leaves=None,\n",
              "                           min_child_weight=None, missing=nan,\n",
              "                           monotone_constraints=None, multi_strategy=None,\n",
              "                           n_estimators=None, n_jobs=None,\n",
              "                           num_parallel_tree=None, random_state=None, ...),\n",
              "    n_features_to_select=15)</pre></div></div></div><div class=\"sk-parallel\"><div class=\"sk-parallel-item\"><div class=\"sk-item\"><div class=\"sk-label-container\"><div class=\"sk-label sk-toggleable\"><input class=\"sk-toggleable__control sk-hidden--visually\" id=\"sk-estimator-id-24\" type=\"checkbox\" ><label for=\"sk-estimator-id-24\" class=\"sk-toggleable__label sk-toggleable__label-arrow\">estimator: XGBRegressor</label><div class=\"sk-toggleable__content\"><pre>XGBRegressor(base_score=None, booster=None, callbacks=None,\n",
              "             colsample_bylevel=None, colsample_bynode=None,\n",
              "             colsample_bytree=None, device=None, early_stopping_rounds=None,\n",
              "             enable_categorical=False, eval_metric=None, feature_types=None,\n",
              "             gamma=None, grow_policy=None, importance_type=None,\n",
              "             interaction_constraints=None, learning_rate=None, max_bin=None,\n",
              "             max_cat_threshold=None, max_cat_to_onehot=None,\n",
              "             max_delta_step=None, max_depth=None, max_leaves=None,\n",
              "             min_child_weight=None, missing=nan, monotone_constraints=None,\n",
              "             multi_strategy=None, n_estimators=None, n_jobs=None,\n",
              "             num_parallel_tree=None, random_state=None, ...)</pre></div></div></div><div class=\"sk-serial\"><div class=\"sk-item\"><div class=\"sk-estimator sk-toggleable\"><input class=\"sk-toggleable__control sk-hidden--visually\" id=\"sk-estimator-id-25\" type=\"checkbox\" ><label for=\"sk-estimator-id-25\" class=\"sk-toggleable__label sk-toggleable__label-arrow\">XGBRegressor</label><div class=\"sk-toggleable__content\"><pre>XGBRegressor(base_score=None, booster=None, callbacks=None,\n",
              "             colsample_bylevel=None, colsample_bynode=None,\n",
              "             colsample_bytree=None, device=None, early_stopping_rounds=None,\n",
              "             enable_categorical=False, eval_metric=None, feature_types=None,\n",
              "             gamma=None, grow_policy=None, importance_type=None,\n",
              "             interaction_constraints=None, learning_rate=None, max_bin=None,\n",
              "             max_cat_threshold=None, max_cat_to_onehot=None,\n",
              "             max_delta_step=None, max_depth=None, max_leaves=None,\n",
              "             min_child_weight=None, missing=nan, monotone_constraints=None,\n",
              "             multi_strategy=None, n_estimators=None, n_jobs=None,\n",
              "             num_parallel_tree=None, random_state=None, ...)</pre></div></div></div></div></div></div></div></div><div class=\"sk-item\"><div class=\"sk-estimator sk-toggleable\"><input class=\"sk-toggleable__control sk-hidden--visually\" id=\"sk-estimator-id-26\" type=\"checkbox\" ><label for=\"sk-estimator-id-26\" class=\"sk-toggleable__label sk-toggleable__label-arrow\">XGBClassifier</label><div class=\"sk-toggleable__content\"><pre>XGBClassifier(base_score=None, booster=None, callbacks=None,\n",
              "              colsample_bylevel=None, colsample_bynode=None,\n",
              "              colsample_bytree=None, device=None, early_stopping_rounds=None,\n",
              "              enable_categorical=False, eval_metric=None, feature_types=None,\n",
              "              gamma=None, grow_policy=None, importance_type=None,\n",
              "              interaction_constraints=None, learning_rate=0.3, max_bin=None,\n",
              "              max_cat_threshold=None, max_cat_to_onehot=None,\n",
              "              max_delta_step=None, max_depth=5, max_leaves=None,\n",
              "              min_child_weight=None, missing=nan, monotone_constraints=None,\n",
              "              multi_strategy=None, n_estimators=200, n_jobs=None,\n",
              "              num_parallel_tree=None, random_state=42, ...)</pre></div></div></div></div></div></div></div>"
            ],
            "text/plain": [
              "Pipeline(steps=[('preprocessor',\n",
              "                 ColumnTransformer(transformers=[('nbin', PowerTransformer(),\n",
              "                                                  ['no_of_adults',\n",
              "                                                   'no_of_children',\n",
              "                                                   'no_of_weekend_nights',\n",
              "                                                   'no_of_week_nights',\n",
              "                                                   'lead_time', 'arrival_month',\n",
              "                                                   'arrival_date',\n",
              "                                                   'no_of_previous_cancellations',\n",
              "                                                   'no_of_previous_bookings_not_canceled',\n",
              "                                                   'avg_price_per_room',\n",
              "                                                   'no_of_special_requests']),\n",
              "                                                 ('bin', RobustScaler(),...\n",
              "                               feature_types=None, gamma=None, grow_policy=None,\n",
              "                               importance_type=None,\n",
              "                               interaction_constraints=None, learning_rate=0.3,\n",
              "                               max_bin=None, max_cat_threshold=None,\n",
              "                               max_cat_to_onehot=None, max_delta_step=None,\n",
              "                               max_depth=5, max_leaves=None,\n",
              "                               min_child_weight=None, missing=nan,\n",
              "                               monotone_constraints=None, multi_strategy=None,\n",
              "                               n_estimators=200, n_jobs=None,\n",
              "                               num_parallel_tree=None, random_state=42, ...))])"
            ]
          },
          "execution_count": 109,
          "metadata": {},
          "output_type": "execute_result"
        }
      ],
      "source": [
        "#Creating and Training the Pipeline\n",
        "steps = []\n",
        "steps.append((\"preprocessor\", preprocessor))\n",
        "steps.append((\"smote\", SMOTE()))\n",
        "steps.append((\"RFE_selector\", RFE_selector))\n",
        "steps.append((\"XGC\", XGBClassifier(random_state=42, learning_rate = 0.3, max_depth = 5, n_estimators = 200)))\n",
        "\n",
        "pipeline = Pipeline(steps=steps)\n",
        "pipeline.fit(X, y)"
      ]
    },
    {
      "cell_type": "code",
      "execution_count": 112,
      "metadata": {},
      "outputs": [
        {
          "data": {
            "text/plain": [
              "['pipeline.joblib']"
            ]
          },
          "execution_count": 112,
          "metadata": {},
          "output_type": "execute_result"
        }
      ],
      "source": [
        "#Saving the Pipeline\n",
        "joblib.dump(pipeline, \"pipeline.joblib\")"
      ]
    }
  ],
  "metadata": {
    "colab": {
      "collapsed_sections": [
        "ytX5xk8trBpr",
        "RxTYke9_ZI6j"
      ],
      "provenance": []
    },
    "kernelspec": {
      "display_name": "Python 3",
      "name": "python3"
    },
    "language_info": {
      "codemirror_mode": {
        "name": "ipython",
        "version": 3
      },
      "file_extension": ".py",
      "mimetype": "text/x-python",
      "name": "python",
      "nbconvert_exporter": "python",
      "pygments_lexer": "ipython3",
      "version": "3.9.18"
    }
  },
  "nbformat": 4,
  "nbformat_minor": 0
}
